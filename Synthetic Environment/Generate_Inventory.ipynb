{
 "cells": [
  {
   "cell_type": "markdown",
   "metadata": {},
   "source": [
    "# Generate Inventory\n",
    "### This notebook is used to showcase how the synthetic events dataset is generated"
   ]
  },
  {
   "cell_type": "code",
   "execution_count": 1,
   "metadata": {},
   "outputs": [],
   "source": [
    "from random_address import real_random_address\n",
    "from datetime       import datetime\n",
    "from pprint         import pprint\n",
    "\n",
    "import pandas            as pd\n",
    "import seaborn           as sns\n",
    "import matplotlib.pyplot as plt\n",
    "\n",
    "import random\n",
    "import time\n",
    "import os\n",
    "\n",
    "default_path = os.getcwd()"
   ]
  },
  {
   "cell_type": "code",
   "execution_count": 2,
   "metadata": {},
   "outputs": [],
   "source": [
    "# Run this cell in order to return to the defaulted working path\n",
    "#os.chdir(path = default_path)"
   ]
  },
  {
   "cell_type": "markdown",
   "metadata": {},
   "source": [
    "## Path Handling for files and Directories"
   ]
  },
  {
   "cell_type": "code",
   "execution_count": 70,
   "metadata": {},
   "outputs": [
    {
     "data": {
      "text/plain": [
       "'/Users/avaldivia/Documents/GitHub/Event-Aggregator/Web Scraper'"
      ]
     },
     "execution_count": 70,
     "metadata": {},
     "output_type": "execute_result"
    }
   ],
   "source": [
    "# Get the default or root folder of the user's system in case that any other person needs to run this setup\n",
    "while not os.getcwd().endswith('Web Scraper'):\n",
    "    os.chdir('..')\n",
    "    if os.getcwd().endswith('Users'):\n",
    "        print(\"Unable to find the root directory\")\n",
    "        break\n",
    "users_default_path = os.getcwd()\n",
    "users_default_path"
   ]
  },
  {
   "cell_type": "code",
   "execution_count": 4,
   "metadata": {},
   "outputs": [],
   "source": [
    "# Grab all the directories\n",
    "data_path   = os.path.join(users_default_path,'Data')\n",
    "\n",
    "# Grab all the files\n",
    "steam_games_path = os.path.join(data_path,'steam_games.csv.gzip')\n",
    "video_games_path = os.path.join(data_path,'games.csv.gzip')\n",
    "nyc_events_path  = os.path.join(data_path,'nyc_events.csv.gzip')"
   ]
  },
  {
   "cell_type": "markdown",
   "metadata": {},
   "source": [
    "## Obtaining Distribution of Total Positive reviews"
   ]
  },
  {
   "cell_type": "code",
   "execution_count": null,
   "metadata": {},
   "outputs": [],
   "source": [
    "steam_games = pd.read_csv(steam_games_path, compression='gzip')\n",
    "print(steam_games.shape)\n",
    "steam_games.head(n =1)"
   ]
  },
  {
   "cell_type": "code",
   "execution_count": 68,
   "metadata": {},
   "outputs": [
    {
     "data": {
      "text/plain": [
       "[0]"
      ]
     },
     "execution_count": 68,
     "metadata": {},
     "output_type": "execute_result"
    }
   ],
   "source": [
    "n_pos_reviews, pos_rev_weights = zip(*tuple(steam_games['total_positive'][steam_games['total_positive'] < (1 * 100)].value_counts().items()))\n",
    "random.choices(population=n_pos_reviews, weights= pos_rev_weights)"
   ]
  },
  {
   "cell_type": "code",
   "execution_count": 69,
   "metadata": {},
   "outputs": [
    {
     "data": {
      "image/png": "[encoded data removed]",
      "text/plain": [
       "<Figure size 640x480 with 1 Axes>"
      ]
     },
     "metadata": {},
     "output_type": "display_data"
    }
   ],
   "source": [
    "plt.boxplot( steam_games['total_positive'][steam_games['total_positive'] < (1 * 100)])\n",
    "plt.show()"
   ]
  },
  {
   "cell_type": "markdown",
   "metadata": {},
   "source": [
    "## Obtaining Price distribution of Steam Games"
   ]
  },
  {
   "cell_type": "code",
   "execution_count": 37,
   "metadata": {},
   "outputs": [
    {
     "data": {
      "text/plain": [
       "[0.0]"
      ]
     },
     "execution_count": 37,
     "metadata": {},
     "output_type": "execute_result"
    }
   ],
   "source": [
    "prices, price_weights = zip(*tuple(steam_games['price_initial (USD)'][steam_games['price_initial (USD)'] < 400].value_counts().items()))\n",
    "random.choices(population=prices, weights = price_weights)"
   ]
  },
  {
   "cell_type": "code",
   "execution_count": 73,
   "metadata": {},
   "outputs": [
    {
     "data": {
      "text/plain": [
       "<Axes: ylabel='price_initial (USD)'>"
      ]
     },
     "execution_count": 73,
     "metadata": {},
     "output_type": "execute_result"
    },
    {
     "data": {
      "image/png": "[encoded data removed]",
      "text/plain": [
       "<Figure size 640x480 with 1 Axes>"
      ]
     },
     "metadata": {},
     "output_type": "display_data"
    }
   ],
   "source": [
    "sns.violinplot(data = steam_games['price_initial (USD)'][steam_games['price_initial (USD)'] < 400])"
   ]
  },
  {
   "cell_type": "markdown",
   "metadata": {},
   "source": [
    "## NYC Events information\n",
    "- Obtain the different types of events"
   ]
  },
  {
   "cell_type": "code",
   "execution_count": 75,
   "metadata": {},
   "outputs": [
    {
     "name": "stdout",
     "output_type": "stream",
     "text": [
      "(21002, 13)\n"
     ]
    },
    {
     "data": {
      "text/html": [
       "<div>\n",
       "<style scoped>\n",
       "    .dataframe tbody tr th:only-of-type {\n",
       "        vertical-align: middle;\n",
       "    }\n",
       "\n",
       "    .dataframe tbody tr th {\n",
       "        vertical-align: top;\n",
       "    }\n",
       "\n",
       "    .dataframe thead th {\n",
       "        text-align: right;\n",
       "    }\n",
       "</style>\n",
       "<table border=\"1\" class=\"dataframe\">\n",
       "  <thead>\n",
       "    <tr style=\"text-align: right;\">\n",
       "      <th></th>\n",
       "      <th>Unnamed: 0</th>\n",
       "      <th>Event ID</th>\n",
       "      <th>Event Name</th>\n",
       "      <th>Start Date/Time</th>\n",
       "      <th>End Date/Time</th>\n",
       "      <th>Event Agency</th>\n",
       "      <th>Event Type</th>\n",
       "      <th>Event Borough</th>\n",
       "      <th>Event Location</th>\n",
       "      <th>Event Street Side</th>\n",
       "      <th>Street Closure Type</th>\n",
       "      <th>Community Board</th>\n",
       "      <th>Police Precinct</th>\n",
       "    </tr>\n",
       "  </thead>\n",
       "  <tbody>\n",
       "    <tr>\n",
       "      <th>0</th>\n",
       "      <td>0</td>\n",
       "      <td>449943</td>\n",
       "      <td>Cortelyou Greenmarket Sunday</td>\n",
       "      <td>2019-01-06T08:00:00.000</td>\n",
       "      <td>2019-12-29T17:00:00.000</td>\n",
       "      <td>Street Activity Permit Office</td>\n",
       "      <td>Farmers Market</td>\n",
       "      <td>Brooklyn</td>\n",
       "      <td>CORTELYOU ROAD between RUGBY ROAD and ARGYLE ...</td>\n",
       "      <td>North</td>\n",
       "      <td>Sidewalk and Curb Lane Closure</td>\n",
       "      <td>14,</td>\n",
       "      <td>70,</td>\n",
       "    </tr>\n",
       "  </tbody>\n",
       "</table>\n",
       "</div>"
      ],
      "text/plain": [
       "   Unnamed: 0  Event ID                    Event Name  \\\n",
       "0           0    449943  Cortelyou Greenmarket Sunday   \n",
       "\n",
       "           Start Date/Time            End Date/Time  \\\n",
       "0  2019-01-06T08:00:00.000  2019-12-29T17:00:00.000   \n",
       "\n",
       "                    Event Agency      Event Type Event Borough  \\\n",
       "0  Street Activity Permit Office  Farmers Market      Brooklyn   \n",
       "\n",
       "                                      Event Location Event Street Side  \\\n",
       "0   CORTELYOU ROAD between RUGBY ROAD and ARGYLE ...             North   \n",
       "\n",
       "               Street Closure Type Community Board Police Precinct  \n",
       "0  Sidewalk and Curb Lane Closure             14,             70,   "
      ]
     },
     "execution_count": 75,
     "metadata": {},
     "output_type": "execute_result"
    }
   ],
   "source": [
    "nyc_events = pd.read_csv(nyc_events_path, compression = 'gzip')\n",
    "print(nyc_events.shape)\n",
    "nyc_events.head(n = 1)"
   ]
  },
  {
   "cell_type": "code",
   "execution_count": 104,
   "metadata": {},
   "outputs": [
    {
     "data": {
      "text/plain": [
       "['Farmers Market']"
      ]
     },
     "execution_count": 104,
     "metadata": {},
     "output_type": "execute_result"
    }
   ],
   "source": [
    "event_types, event_weights  = zip(*tuple(nyc_events['Event Type'].value_counts().items()))\n",
    "# Remove the most common type of event\n",
    "event_types   = event_types[1:]\n",
    "event_weights = event_weights[1:]\n",
    "\n",
    "random.choices(population=event_types, weights=event_weights)"
   ]
  },
  {
   "cell_type": "markdown",
   "metadata": {},
   "source": [
    "## Generate a random Address"
   ]
  },
  {
   "cell_type": "code",
   "execution_count": 163,
   "metadata": {},
   "outputs": [],
   "source": [
    "def generate_address():\n",
    "    a = real_random_address()\n",
    "    if 'city' not in a.keys():\n",
    "        a['city'] = ''\n",
    "    return (a['address1'],a['address2'],a['city'],a['state'],a['postalCode'],a['coordinates']['lat'],a['coordinates']['lng'])\n",
    "a1,a2,city, state, zipcode, lat, lng = generate_address()\n",
    "a1,a2,city, state, zipcode, lat, lng"
   ]
  },
  {
   "cell_type": "markdown",
   "metadata": {},
   "source": [
    "## Generate a random date and time"
   ]
  },
  {
   "cell_type": "code",
   "execution_count": 109,
   "metadata": {},
   "outputs": [
    {
     "name": "stdout",
     "output_type": "stream",
     "text": [
      "2025-09-21 03:54:00\n"
     ]
    },
    {
     "data": {
      "text/plain": [
       "'02/03/2025 04:24 PM'"
      ]
     },
     "execution_count": 109,
     "metadata": {},
     "output_type": "execute_result"
    }
   ],
   "source": [
    "def str_time_prop(start, end, time_format, prop):\n",
    "    stime = time.mktime(time.strptime(start, time_format))\n",
    "    etime = time.mktime(time.strptime(end, time_format))\n",
    "    ptime = stime + prop * (etime - stime)\n",
    "    return time.strftime(time_format, time.localtime(ptime))\n",
    "\n",
    "def random_date(start, end, prop):\n",
    "    t = str_time_prop(start, end, '%m/%d/%Y %I:%M %p', prop)\n",
    "    return datetime.strptime( t, '%m/%d/%Y %I:%M %p')\n",
    "\n",
    "print( random_date(\"1/1/2025 1:30 PM\", \"1/1/2026 4:50 AM\", random.random())  )\n",
    "datetime.now().strftime(format = '%m/%d/%Y %I:%M %p')"
   ]
  },
  {
   "cell_type": "code",
   "execution_count": 106,
   "metadata": {},
   "outputs": [
    {
     "name": "stdout",
     "output_type": "stream",
     "text": [
      "(1511, 14)\n",
      "Index(['Unnamed: 0', 'Title', 'Release Date', 'Team', 'Rating', 'Times Listed',\n",
      "       'Number of Reviews', 'Genres', 'Summary', 'Reviews', 'Plays', 'Playing',\n",
      "       'Backlogs', 'Wishlist'],\n",
      "      dtype='object')\n"
     ]
    },
    {
     "data": {
      "text/html": [
       "<div>\n",
       "<style scoped>\n",
       "    .dataframe tbody tr th:only-of-type {\n",
       "        vertical-align: middle;\n",
       "    }\n",
       "\n",
       "    .dataframe tbody tr th {\n",
       "        vertical-align: top;\n",
       "    }\n",
       "\n",
       "    .dataframe thead th {\n",
       "        text-align: right;\n",
       "    }\n",
       "</style>\n",
       "<table border=\"1\" class=\"dataframe\">\n",
       "  <thead>\n",
       "    <tr style=\"text-align: right;\">\n",
       "      <th></th>\n",
       "      <th>Unnamed: 0</th>\n",
       "      <th>Title</th>\n",
       "      <th>Release Date</th>\n",
       "      <th>Team</th>\n",
       "      <th>Rating</th>\n",
       "      <th>Times Listed</th>\n",
       "      <th>Number of Reviews</th>\n",
       "      <th>Genres</th>\n",
       "      <th>Summary</th>\n",
       "      <th>Reviews</th>\n",
       "      <th>Plays</th>\n",
       "      <th>Playing</th>\n",
       "      <th>Backlogs</th>\n",
       "      <th>Wishlist</th>\n",
       "    </tr>\n",
       "  </thead>\n",
       "  <tbody>\n",
       "    <tr>\n",
       "      <th>1</th>\n",
       "      <td>1</td>\n",
       "      <td>Hades</td>\n",
       "      <td>Dec 10, 2019</td>\n",
       "      <td>['Supergiant Games']</td>\n",
       "      <td>4.3</td>\n",
       "      <td>2.9K</td>\n",
       "      <td>2.9K</td>\n",
       "      <td>['Adventure', 'Brawler', 'Indie', 'RPG']</td>\n",
       "      <td>A rogue-lite hack and slash dungeon crawler in...</td>\n",
       "      <td>['convinced this is a roguelike for people who...</td>\n",
       "      <td>21K</td>\n",
       "      <td>3.2K</td>\n",
       "      <td>6.3K</td>\n",
       "      <td>3.6K</td>\n",
       "    </tr>\n",
       "  </tbody>\n",
       "</table>\n",
       "</div>"
      ],
      "text/plain": [
       "   Unnamed: 0  Title  Release Date                  Team  Rating Times Listed  \\\n",
       "1           1  Hades  Dec 10, 2019  ['Supergiant Games']     4.3         2.9K   \n",
       "\n",
       "  Number of Reviews                                    Genres  \\\n",
       "1              2.9K  ['Adventure', 'Brawler', 'Indie', 'RPG']   \n",
       "\n",
       "                                             Summary  \\\n",
       "1  A rogue-lite hack and slash dungeon crawler in...   \n",
       "\n",
       "                                             Reviews Plays Playing Backlogs  \\\n",
       "1  ['convinced this is a roguelike for people who...   21K    3.2K     6.3K   \n",
       "\n",
       "  Wishlist  \n",
       "1     3.6K  "
      ]
     },
     "execution_count": 106,
     "metadata": {},
     "output_type": "execute_result"
    }
   ],
   "source": [
    "video_games = pd.read_csv(video_games_path, compression='gzip')\n",
    "video_games.drop(labels=0,inplace=True)\n",
    "print(video_games.shape)\n",
    "print(video_games.columns)\n",
    "video_games.head(n = 1)"
   ]
  },
  {
   "cell_type": "code",
   "execution_count": 148,
   "metadata": {},
   "outputs": [
    {
     "data": {
      "text/plain": [
       "('Chibi-Robo!',\n",
       " \"['Adventure', 'Platform']\",\n",
       " 'Like most families, the Sandersons bicker about money and cleaning. Unlike most families, though, they also have robotic spiders, aliens, and talking toys to worry about. Enter Chibi-Robo, a tiny robot programmed to spread happiness. Join him on his quest to restore order to the Sanderson house and SAVE THE WORLD!')"
      ]
     },
     "execution_count": 148,
     "metadata": {},
     "output_type": "execute_result"
    }
   ],
   "source": [
    "def random_video_game():\n",
    "    i = (video_games.sample(n = 1, axis=0, ignore_index=True)[['Title','Genres','Summary']].to_dict())\n",
    "    return (i['Title'][0], i['Genres'][0], i['Summary'][0])\n",
    "title, genre, summary = random_video_game()\n",
    "title,genre,summary"
   ]
  },
  {
   "cell_type": "markdown",
   "metadata": {},
   "source": [
    "### Random Functions"
   ]
  },
  {
   "cell_type": "code",
   "execution_count": 153,
   "metadata": {},
   "outputs": [],
   "source": [
    "n_likes   : int   = lambda: random.choices(population = n_pos_reviews , weights = pos_rev_weights)\n",
    "event_type: str   = lambda: random.choices(population = event_types   , weights = event_weights  )\n",
    "price     : float = lambda: random.choices(population = prices        , weights = price_weights  )\n",
    "\n",
    "rand_date : datetime = lambda: random_date(datetime.now().strftime(format = '%m/%d/%Y %I:%M %p'), \"1/1/2026 4:50 AM\", random.random())\n",
    "# a1,a2,city, state, zipcode, lat, lng = generate_address()\n",
    "# title, genre, summary = random_video_game()"
   ]
  },
  {
   "cell_type": "markdown",
   "metadata": {},
   "source": [
    "### Generate synthetic dataset"
   ]
  },
  {
   "cell_type": "code",
   "execution_count": 167,
   "metadata": {},
   "outputs": [
    {
     "name": "stdout",
     "output_type": "stream",
     "text": [
      "<class 'pandas.core.frame.DataFrame'>\n",
      "RangeIndex: 200 entries, 0 to 199\n",
      "Data columns (total 14 columns):\n",
      " #   Column       Non-Null Count  Dtype         \n",
      "---  ------       --------------  -----         \n",
      " 0   title        200 non-null    object        \n",
      " 1   tags         200 non-null    object        \n",
      " 2   description  200 non-null    object        \n",
      " 3   likes        200 non-null    int64         \n",
      " 4   event type   200 non-null    object        \n",
      " 5   price        200 non-null    float64       \n",
      " 6   date         200 non-null    datetime64[ns]\n",
      " 7   address1     200 non-null    object        \n",
      " 8   address2     200 non-null    object        \n",
      " 9   city         200 non-null    object        \n",
      " 10  state        200 non-null    object        \n",
      " 11  zipcode      200 non-null    object        \n",
      " 12  lat          200 non-null    float64       \n",
      " 13  lng          200 non-null    float64       \n",
      "dtypes: datetime64[ns](1), float64(3), int64(1), object(9)\n",
      "memory usage: 22.0+ KB\n",
      "None\n"
     ]
    },
    {
     "data": {
      "text/html": [
       "<div>\n",
       "<style scoped>\n",
       "    .dataframe tbody tr th:only-of-type {\n",
       "        vertical-align: middle;\n",
       "    }\n",
       "\n",
       "    .dataframe tbody tr th {\n",
       "        vertical-align: top;\n",
       "    }\n",
       "\n",
       "    .dataframe thead th {\n",
       "        text-align: right;\n",
       "    }\n",
       "</style>\n",
       "<table border=\"1\" class=\"dataframe\">\n",
       "  <thead>\n",
       "    <tr style=\"text-align: right;\">\n",
       "      <th></th>\n",
       "      <th>title</th>\n",
       "      <th>tags</th>\n",
       "      <th>description</th>\n",
       "      <th>likes</th>\n",
       "      <th>event type</th>\n",
       "      <th>price</th>\n",
       "      <th>date</th>\n",
       "      <th>address1</th>\n",
       "      <th>address2</th>\n",
       "      <th>city</th>\n",
       "      <th>state</th>\n",
       "      <th>zipcode</th>\n",
       "      <th>lat</th>\n",
       "      <th>lng</th>\n",
       "    </tr>\n",
       "  </thead>\n",
       "  <tbody>\n",
       "    <tr>\n",
       "      <th>0</th>\n",
       "      <td>Monster Hunter Rise</td>\n",
       "      <td>['Adventure', 'Brawler', 'RPG']</td>\n",
       "      <td>Rise to the challenge and join the hunt! In Mo...</td>\n",
       "      <td>0</td>\n",
       "      <td>Sport - Adult</td>\n",
       "      <td>24.99</td>\n",
       "      <td>2025-04-21 19:23:00</td>\n",
       "      <td>1217 Bay Street</td>\n",
       "      <td>#318-A</td>\n",
       "      <td>Tybee Island</td>\n",
       "      <td>GA</td>\n",
       "      <td>31328</td>\n",
       "      <td>32.022200</td>\n",
       "      <td>-80.858748</td>\n",
       "    </tr>\n",
       "    <tr>\n",
       "      <th>1</th>\n",
       "      <td>Wanted: Dead</td>\n",
       "      <td>['Adventure', 'Brawler', 'Shooter']</td>\n",
       "      <td>Wanted: Dead promises \"spectacular melee comba...</td>\n",
       "      <td>7</td>\n",
       "      <td>Sport - Adult</td>\n",
       "      <td>4.99</td>\n",
       "      <td>2025-10-06 05:34:00</td>\n",
       "      <td>3194 Bladensburg Road Northeast</td>\n",
       "      <td></td>\n",
       "      <td>Washington</td>\n",
       "      <td>DC</td>\n",
       "      <td>20018</td>\n",
       "      <td>38.930136</td>\n",
       "      <td>-76.959298</td>\n",
       "    </tr>\n",
       "    <tr>\n",
       "      <th>2</th>\n",
       "      <td>Splatoon 3</td>\n",
       "      <td>['Platform', 'Shooter']</td>\n",
       "      <td>Enter the Splatlands, a sun-scorched desert in...</td>\n",
       "      <td>1</td>\n",
       "      <td>Sport - Adult</td>\n",
       "      <td>1.99</td>\n",
       "      <td>2025-08-07 02:32:00</td>\n",
       "      <td>6231 North 67th Avenue</td>\n",
       "      <td>#241</td>\n",
       "      <td>Glendale</td>\n",
       "      <td>AZ</td>\n",
       "      <td>85301</td>\n",
       "      <td>33.527967</td>\n",
       "      <td>-112.202255</td>\n",
       "    </tr>\n",
       "    <tr>\n",
       "      <th>3</th>\n",
       "      <td>The Ultimate Doom</td>\n",
       "      <td>['Shooter']</td>\n",
       "      <td>The complete megahit game that set the world a...</td>\n",
       "      <td>3</td>\n",
       "      <td>Sport - Adult</td>\n",
       "      <td>6.99</td>\n",
       "      <td>2025-09-06 22:47:00</td>\n",
       "      <td>5 Hibiscus Avenue</td>\n",
       "      <td></td>\n",
       "      <td>Savannah</td>\n",
       "      <td>GA</td>\n",
       "      <td>31404</td>\n",
       "      <td>32.045520</td>\n",
       "      <td>-81.073267</td>\n",
       "    </tr>\n",
       "    <tr>\n",
       "      <th>4</th>\n",
       "      <td>Plants vs. Zombies 2: It's About Time</td>\n",
       "      <td>['Adventure', 'Real Time Strategy', 'Strategy'...</td>\n",
       "      <td>Meet, greet and defeat legions of zombies from...</td>\n",
       "      <td>0</td>\n",
       "      <td>Special Event</td>\n",
       "      <td>0.99</td>\n",
       "      <td>2025-10-27 21:32:00</td>\n",
       "      <td>606 Lincoln Street</td>\n",
       "      <td></td>\n",
       "      <td>Savannah</td>\n",
       "      <td>GA</td>\n",
       "      <td>31401</td>\n",
       "      <td>32.067905</td>\n",
       "      <td>-81.092159</td>\n",
       "    </tr>\n",
       "  </tbody>\n",
       "</table>\n",
       "</div>"
      ],
      "text/plain": [
       "                                   title  \\\n",
       "0                    Monster Hunter Rise   \n",
       "1                           Wanted: Dead   \n",
       "2                             Splatoon 3   \n",
       "3                      The Ultimate Doom   \n",
       "4  Plants vs. Zombies 2: It's About Time   \n",
       "\n",
       "                                                tags  \\\n",
       "0                    ['Adventure', 'Brawler', 'RPG']   \n",
       "1                ['Adventure', 'Brawler', 'Shooter']   \n",
       "2                            ['Platform', 'Shooter']   \n",
       "3                                        ['Shooter']   \n",
       "4  ['Adventure', 'Real Time Strategy', 'Strategy'...   \n",
       "\n",
       "                                         description  likes     event type  \\\n",
       "0  Rise to the challenge and join the hunt! In Mo...      0  Sport - Adult   \n",
       "1  Wanted: Dead promises \"spectacular melee comba...      7  Sport - Adult   \n",
       "2  Enter the Splatlands, a sun-scorched desert in...      1  Sport - Adult   \n",
       "3  The complete megahit game that set the world a...      3  Sport - Adult   \n",
       "4  Meet, greet and defeat legions of zombies from...      0  Special Event   \n",
       "\n",
       "   price                date                         address1 address2  \\\n",
       "0  24.99 2025-04-21 19:23:00                  1217 Bay Street   #318-A   \n",
       "1   4.99 2025-10-06 05:34:00  3194 Bladensburg Road Northeast            \n",
       "2   1.99 2025-08-07 02:32:00           6231 North 67th Avenue     #241   \n",
       "3   6.99 2025-09-06 22:47:00                5 Hibiscus Avenue            \n",
       "4   0.99 2025-10-27 21:32:00               606 Lincoln Street            \n",
       "\n",
       "           city state zipcode        lat         lng  \n",
       "0  Tybee Island    GA   31328  32.022200  -80.858748  \n",
       "1    Washington    DC   20018  38.930136  -76.959298  \n",
       "2      Glendale    AZ   85301  33.527967 -112.202255  \n",
       "3      Savannah    GA   31404  32.045520  -81.073267  \n",
       "4      Savannah    GA   31401  32.067905  -81.092159  "
      ]
     },
     "execution_count": 167,
     "metadata": {},
     "output_type": "execute_result"
    }
   ],
   "source": [
    "data = {'title'      : [],\n",
    "        'tags'       : [],\n",
    "        'description': [],\n",
    "        'likes'      : [],\n",
    "        'event type' : [],\n",
    "        'price'      : [],\n",
    "        'date'       : [],\n",
    "        'address1'   : [],\n",
    "        'address2'   : [],\n",
    "        'city'       : [],\n",
    "        'state'      : [],\n",
    "        'zipcode'    : [],\n",
    "        'lat'        : [],\n",
    "        'lng'        : []\n",
    "        }\n",
    "for _ in range(200):\n",
    "    title, genre, summary = random_video_game()\n",
    "    data['title'].append(title)\n",
    "    data['tags'].append(genre)\n",
    "    data['description'].append(summary)\n",
    "\n",
    "    data['likes'].append(n_likes()[0])\n",
    "    data['event type'].append(event_type()[0])\n",
    "    data['price'].append(price()[0])\n",
    "    data['date'].append(rand_date())\n",
    "\n",
    "    a1,a2,city, state, zipcode, lat, lng = generate_address()\n",
    "    data['address1'].append(a1)\n",
    "    data['address2'].append(a2)\n",
    "    data['city'].append(city)\n",
    "    data['state'].append(state)\n",
    "    data['zipcode'].append(zipcode)\n",
    "    data['lat'].append(lat)\n",
    "    data['lng'].append(lng)\n",
    "\n",
    "df = pd.DataFrame(data = data)\n",
    "print(df.info())\n",
    "df.head()"
   ]
  },
  {
   "cell_type": "code",
   "execution_count": null,
   "metadata": {},
   "outputs": [],
   "source": [
    "#df.to_csv(os.path.join(data_path,'events.csv'))"
   ]
  }
 ],
 "metadata": {
  "kernelspec": {
   "display_name": ".venv",
   "language": "python",
   "name": "python3"
  },
  "language_info": {
   "codemirror_mode": {
    "name": "ipython",
    "version": 3
   },
   "file_extension": ".py",
   "mimetype": "text/x-python",
   "name": "python",
   "nbconvert_exporter": "python",
   "pygments_lexer": "ipython3",
   "version": "3.11.5"
  }
 },
 "nbformat": 4,
 "nbformat_minor": 2
}
