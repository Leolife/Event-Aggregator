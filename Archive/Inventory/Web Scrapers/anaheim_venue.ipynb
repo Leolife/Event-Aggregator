{
 "cells": [
  {
   "cell_type": "code",
   "execution_count": 2,
   "metadata": {},
   "outputs": [],
   "source": [
    "from bs4 import BeautifulSoup\n",
    "import requests"
   ]
  },
  {
   "cell_type": "code",
   "execution_count": 3,
   "metadata": {},
   "outputs": [],
   "source": [
    "items = requests.get(url = 'https://www.anaheim.net/calendar.aspx?Keywords=&startDate=01/01/2025&enddate=12/31/2025&CID=26&showPastEvents=false')\n",
    "soup  = BeautifulSoup(items.content,'html.parser')\n",
    "webpage_text = soup.get_text()"
   ]
  },
  {
   "cell_type": "code",
   "execution_count": 4,
   "metadata": {},
   "outputs": [],
   "source": [
    "text = webpage_text.split('\\n')\n",
    "text = [i.strip() for i in text]\n",
    "text = [i for i in text if i != '']"
   ]
  },
  {
   "cell_type": "code",
   "execution_count": 5,
   "metadata": {},
   "outputs": [],
   "source": [
    "def find_s(s: list[str], val: str):\n",
    "    for e in s:\n",
    "        if e.startswith(val):\n",
    "            return s.index(e)\n",
    "\n",
    "start_idx = find_s(s = text, val = '01')\n",
    "text = text[start_idx :]\n",
    "end_idx  = find_s(s = text, val = 'Facility')\n",
    "text = text[:end_idx]"
   ]
  },
  {
   "cell_type": "code",
   "execution_count": 20,
   "metadata": {},
   "outputs": [
    {
     "data": {
      "text/plain": [
       "['Natural Products Expo West 2025Category: Anaheim Convention Center   Natural Products Expo West 2025  When: All Day Location: Anaheim Convention Center  More Details   March\\xa05,\\xa02025\\u2009-\\u2009March\\xa08,\\xa02025@ Anaheim Convention Center',\n",
       " 'tural Products Expo West 20252025-03-05T00:00:00Please visit event website for additional information.',\n",
       " 'aheim Convention Center800 W Katella AveAnaheimCA92802',\n",
       " 'Natural Products Expo West 2025Category: Anaheim Convention Center   Natural Products Expo West 2025  When: All Day Location: Anaheim Convention Center  More Details   March\\xa05,\\xa02025\\u2009-\\u2009March\\xa08,\\xa02025@ Anaheim Convention Center',\n",
       " 'tural Products Expo West 20252025-03-05T00:00:00Please visit event website for additional information.',\n",
       " 'aheim Convention Center800 W Katella AveAnaheimCA92802',\n",
       " 'Natural Products Expo West 2025Category: Anaheim Convention Center   Natural Products Expo West 2025  When: All Day Location: Anaheim Convention Center  More Details   March\\xa05,\\xa02025\\u2009-\\u2009March\\xa08,\\xa02025@ Anaheim Convention Center',\n",
       " 'tural Products Expo West 20252025-03-05T00:00:00Please visit event website for additional information.',\n",
       " 'aheim Convention Center800 W Katella AveAnaheimCA92802',\n",
       " 'Natural Products Expo West 2025Category: Anaheim Convention Center   Natural Products Expo West 2025  When: All Day Location: Anaheim Convention Center  More Details   March\\xa05,\\xa02025\\u2009-\\u2009March\\xa08,\\xa02025@ Anaheim Convention Center',\n",
       " 'tural Products Expo West 20252025-03-05T00:00:00Please visit event website for additional information.',\n",
       " 'aheim Convention Center800 W Katella AveAnaheimCA92802',\n",
       " 'American Physical Society; APS March Meeting 2025Category: Anaheim Convention Center   American Physical Society; APS March Meeting 2025  When: All Day Location: Anaheim Convention Center  More Details   March\\xa016,\\xa02025\\u2009-\\u2009March\\xa021,\\xa02025@ Anaheim Convention Center',\n",
       " 'erican Physical Society; APS March Meeting 20252025-03-16T00:00:00Please visit event website for additional information.',\n",
       " 'aheim Convention Center800 W Katella AveAnaheimCA92802',\n",
       " 'American Physical Society; APS March Meeting 2025Category: Anaheim Convention Center   American Physical Society; APS March Meeting 2025  When: All Day Location: Anaheim Convention Center  More Details   March\\xa016,\\xa02025\\u2009-\\u2009March\\xa021,\\xa02025@ Anaheim Convention Center',\n",
       " 'erican Physical Society; APS March Meeting 20252025-03-16T00:00:00Please visit event website for additional information.',\n",
       " 'aheim Convention Center800 W Katella AveAnaheimCA92802    2025 IPC APEX ExpoCategory: Anaheim Convention Center   2025 IPC APEX Expo  When: All Day Location: Anaheim Convention Center  More Details   March\\xa017,\\xa02025\\u2009-\\u2009March\\xa020,\\xa02025@ Anaheim Convention Center',\n",
       " '25 IPC APEX Expo2025-03-17T00:00:00Please visit event website for additional information.',\n",
       " 'aheim Convention Center800 W Katella AveAnaheimCA92802',\n",
       " 'American Physical Society; APS March Meeting 2025Category: Anaheim Convention Center   American Physical Society; APS March Meeting 2025  When: All Day Location: Anaheim Convention Center  More Details   March\\xa016,\\xa02025\\u2009-\\u2009March\\xa021,\\xa02025@ Anaheim Convention Center',\n",
       " 'erican Physical Society; APS March Meeting 20252025-03-16T00:00:00Please visit event website for additional information.',\n",
       " 'aheim Convention Center800 W Katella AveAnaheimCA92802    2025 IPC APEX ExpoCategory: Anaheim Convention Center   2025 IPC APEX Expo  When: All Day Location: Anaheim Convention Center  More Details   March\\xa017,\\xa02025\\u2009-\\u2009March\\xa020,\\xa02025@ Anaheim Convention Center',\n",
       " '25 IPC APEX Expo2025-03-17T00:00:00Please visit event website for additional information.',\n",
       " 'aheim Convention Center800 W Katella AveAnaheimCA92802',\n",
       " 'American Physical Society; APS March Meeting 2025Category: Anaheim Convention Center   American Physical Society; APS March Meeting 2025  When: All Day Location: Anaheim Convention Center  More Details   March\\xa016,\\xa02025\\u2009-\\u2009March\\xa021,\\xa02025@ Anaheim Convention Center',\n",
       " 'erican Physical Society; APS March Meeting 20252025-03-16T00:00:00Please visit event website for additional information.',\n",
       " 'aheim Convention Center800 W Katella AveAnaheimCA92802    2025 IPC APEX ExpoCategory: Anaheim Convention Center   2025 IPC APEX Expo  When: All Day Location: Anaheim Convention Center  More Details   March\\xa017,\\xa02025\\u2009-\\u2009March\\xa020,\\xa02025@ Anaheim Convention Center',\n",
       " '25 IPC APEX Expo2025-03-17T00:00:00Please visit event website for additional information.',\n",
       " 'aheim Convention Center800 W Katella AveAnaheimCA92802',\n",
       " 'American Physical Society; APS March Meeting 2025Category: Anaheim Convention Center   American Physical Society; APS March Meeting 2025  When: All Day Location: Anaheim Convention Center  More Details   March\\xa016,\\xa02025\\u2009-\\u2009March\\xa021,\\xa02025@ Anaheim Convention Center',\n",
       " 'erican Physical Society; APS March Meeting 20252025-03-16T00:00:00Please visit event website for additional information.',\n",
       " 'aheim Convention Center800 W Katella AveAnaheimCA92802    2025 IPC APEX ExpoCategory: Anaheim Convention Center   2025 IPC APEX Expo  When: All Day Location: Anaheim Convention Center  More Details   March\\xa017,\\xa02025\\u2009-\\u2009March\\xa020,\\xa02025@ Anaheim Convention Center',\n",
       " '25 IPC APEX Expo2025-03-17T00:00:00Please visit event website for additional information.',\n",
       " 'aheim Convention Center800 W Katella AveAnaheimCA92802',\n",
       " 'American Physical Society; APS March Meeting 2025Category: Anaheim Convention Center   American Physical Society; APS March Meeting 2025  When: All Day Location: Anaheim Convention Center  More Details   March\\xa016,\\xa02025\\u2009-\\u2009March\\xa021,\\xa02025@ Anaheim Convention Center',\n",
       " 'erican Physical Society; APS March Meeting 20252025-03-16T00:00:00Please visit event website for additional information.',\n",
       " 'aheim Convention Center800 W Katella AveAnaheimCA92802    2025 Dance ChampionshipsCategory: Anaheim Convention Center   2025 Dance Championships  When: All Day Location: Anaheim Community Church  More Details   March\\xa021,\\xa02025\\u2009-\\u2009March\\xa023,\\xa02025@ Anaheim Community Church',\n",
       " '25 Dance Championships2025-03-21T00:00:00Please visit event website for additional information.',\n",
       " 'aheim Community Church2930 W. Ball Rd.AnaheimCA92804',\n",
       " '2025 Dance ChampionshipsCategory: Anaheim Convention Center   2025 Dance Championships  When: All Day Location: Anaheim Community Church  More Details   March\\xa021,\\xa02025\\u2009-\\u2009March\\xa023,\\xa02025@ Anaheim Community Church',\n",
       " '25 Dance Championships2025-03-21T00:00:00Please visit event website for additional information.',\n",
       " 'aheim Community Church2930 W. Ball Rd.AnaheimCA92804',\n",
       " '2025 Dance ChampionshipsCategory: Anaheim Convention Center   2025 Dance Championships  When: All Day Location: Anaheim Community Church  More Details   March\\xa021,\\xa02025\\u2009-\\u2009March\\xa023,\\xa02025@ Anaheim Community Church',\n",
       " '25 Dance Championships2025-03-21T00:00:00Please visit event website for additional information.',\n",
       " 'aheim Community Church2930 W. Ball Rd.AnaheimCA92804',\n",
       " 'WonderCon 2025Category: Anaheim Convention Center   WonderCon 2025  When: All Day Location: Anaheim Convention Center  More Details   March\\xa028,\\xa02025\\u2009-\\u2009March\\xa030,\\xa02025@ Anaheim Convention Center',\n",
       " 'nderCon 20252025-03-28T00:00:00Please visit event website for additional information.',\n",
       " 'aheim Convention Center800 W Katella AveAnaheimCA92802',\n",
       " 'WonderCon 2025Category: Anaheim Convention Center   WonderCon 2025  When: All Day Location: Anaheim Convention Center  More Details   March\\xa028,\\xa02025\\u2009-\\u2009March\\xa030,\\xa02025@ Anaheim Convention Center',\n",
       " 'nderCon 20252025-03-28T00:00:00Please visit event website for additional information.',\n",
       " 'aheim Convention Center800 W Katella AveAnaheimCA92802',\n",
       " 'WonderCon 2025Category: Anaheim Convention Center   WonderCon 2025  When: All Day Location: Anaheim Convention Center  More Details   March\\xa028,\\xa02025\\u2009-\\u2009March\\xa030,\\xa02025@ Anaheim Convention Center',\n",
       " 'nderCon 20252025-03-28T00:00:00Please visit event website for additional information.',\n",
       " 'aheim Convention Center800 W Katella AveAnaheimCA92802']"
      ]
     },
     "execution_count": 20,
     "metadata": {},
     "output_type": "execute_result"
    }
   ],
   "source": [
    "t = [i[2:] for i in text]\n",
    "t = [i.replace('\\t','').strip() for i in t if i != '']\n",
    "t"
   ]
  },
  {
   "cell_type": "code",
   "execution_count": 24,
   "metadata": {},
   "outputs": [],
   "source": [
    "t_ = [i.split('  ') for i in t]\n",
    "t_ = ''.join(t)"
   ]
  },
  {
   "cell_type": "code",
   "execution_count": null,
   "metadata": {},
   "outputs": [],
   "source": [
    "s = t_.split(' ')"
   ]
  },
  {
   "cell_type": "code",
   "execution_count": 27,
   "metadata": {},
   "outputs": [],
   "source": [
    "from collections import Counter"
   ]
  },
  {
   "cell_type": "code",
   "execution_count": 28,
   "metadata": {},
   "outputs": [],
   "source": [
    "freq = Counter(s)"
   ]
  },
  {
   "cell_type": "code",
   "execution_count": 29,
   "metadata": {},
   "outputs": [
    {
     "data": {
      "text/plain": [
       "Counter({'': 135,\n",
       "         'Convention': 71,\n",
       "         'Anaheim': 60,\n",
       "         'Center': 37,\n",
       "         '2025': 25,\n",
       "         'When:': 20,\n",
       "         'All': 20,\n",
       "         'Day': 20,\n",
       "         'Location:': 20,\n",
       "         'More': 20,\n",
       "         'Details': 20,\n",
       "         'visit': 20,\n",
       "         'event': 20,\n",
       "         'website': 20,\n",
       "         'for': 20,\n",
       "         'additional': 20,\n",
       "         'information.aheim': 20,\n",
       "         'Physical': 18,\n",
       "         'Society;': 18,\n",
       "         'APS': 18,\n",
       "         'March': 18,\n",
       "         'Meeting': 18,\n",
       "         'Center800': 17,\n",
       "         'W': 17,\n",
       "         'Katella': 17,\n",
       "         'Expo': 16,\n",
       "         '2025Category:': 13,\n",
       "         'Products': 12,\n",
       "         'West': 12,\n",
       "         'IPC': 12,\n",
       "         'APEX': 12,\n",
       "         'Dance': 9,\n",
       "         'Community': 9,\n",
       "         'AveAnaheimCA92802American': 6,\n",
       "         'American': 6,\n",
       "         'March\\xa016,\\xa02025\\u2009-\\u2009March\\xa021,\\xa02025@': 6,\n",
       "         'Centererican': 6,\n",
       "         '20252025-03-16T00:00:00Please': 6,\n",
       "         'AveAnaheimCA92802': 6,\n",
       "         'Natural': 5,\n",
       "         'March\\xa05,\\xa02025\\u2009-\\u2009March\\xa08,\\xa02025@': 4,\n",
       "         'Centertural': 4,\n",
       "         '20252025-03-05T00:00:00Please': 4,\n",
       "         'ExpoCategory:': 4,\n",
       "         'March\\xa017,\\xa02025\\u2009-\\u2009March\\xa020,\\xa02025@': 4,\n",
       "         'Center25': 4,\n",
       "         'Expo2025-03-17T00:00:00Please': 4,\n",
       "         'AveAnaheimCA92802Natural': 3,\n",
       "         'ChampionshipsCategory:': 3,\n",
       "         'Championships': 3,\n",
       "         'Church': 3,\n",
       "         'March\\xa021,\\xa02025\\u2009-\\u2009March\\xa023,\\xa02025@': 3,\n",
       "         'Church25': 3,\n",
       "         'Championships2025-03-21T00:00:00Please': 3,\n",
       "         'Church2930': 3,\n",
       "         'W.': 3,\n",
       "         'Ball': 3,\n",
       "         'WonderCon': 3,\n",
       "         'March\\xa028,\\xa02025\\u2009-\\u2009March\\xa030,\\xa02025@': 3,\n",
       "         'CenternderCon': 3,\n",
       "         '20252025-03-28T00:00:00Please': 3,\n",
       "         'Rd.AnaheimCA928042025': 2,\n",
       "         'AveAnaheimCA92802WonderCon': 2,\n",
       "         'Rd.AnaheimCA92804WonderCon': 1})"
      ]
     },
     "execution_count": 29,
     "metadata": {},
     "output_type": "execute_result"
    }
   ],
   "source": [
    "freq"
   ]
  }
 ],
 "metadata": {
  "kernelspec": {
   "display_name": ".venv",
   "language": "python",
   "name": "python3"
  },
  "language_info": {
   "codemirror_mode": {
    "name": "ipython",
    "version": 3
   },
   "file_extension": ".py",
   "mimetype": "text/x-python",
   "name": "python",
   "nbconvert_exporter": "python",
   "pygments_lexer": "ipython3",
   "version": "3.11.5"
  }
 },
 "nbformat": 4,
 "nbformat_minor": 2
}
