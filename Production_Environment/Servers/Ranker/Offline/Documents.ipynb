{
 "cells": [
  {
   "cell_type": "code",
   "execution_count": null,
   "id": "0a93366c",
   "metadata": {},
   "outputs": [],
   "source": [
    "from sklearn.metrics                 import silhouette_samples, silhouette_score\n",
    "from sklearn.feature_extraction.text import HashingVectorizer , TfidfTransformer\n",
    "from sklearn.pipeline                import make_pipeline\n",
    "from sklearn.decomposition           import TruncatedSVD\n",
    "from sklearn.preprocessing           import Normalizer\n",
    "from sklearn.cluster                 import KMeans\n",
    "\n",
    "lsa_vectorizer = make_pipeline(\n",
    "    HashingVectorizer(stop_words=\"english\", n_features=1_000),\n",
    "    TfidfTransformer(),\n",
    "    TruncatedSVD(n_components=50, random_state=0),\n",
    "    Normalizer(copy=False),\n",
    ")\n",
    "\n",
    "from collections import Counter\n",
    "import matplotlib.pyplot as plt\n",
    "import pandas as pd\n",
    "import numpy  as np\n",
    "import requests\n",
    "import json\n",
    "import gzip\n",
    "import os\n",
    "\n",
    "class NpEncoder(json.JSONEncoder):\n",
    "    def default(self, obj):\n",
    "        if isinstance(obj, np.integer):\n",
    "            return int(obj)\n",
    "        if isinstance(obj, np.floating):\n",
    "            return float(obj)\n",
    "        if isinstance(obj, np.ndarray):\n",
    "            return obj.tolist()\n",
    "        return super(NpEncoder, self).default(obj)"
   ]
  },
  {
   "cell_type": "code",
   "execution_count": null,
   "id": "401754fe",
   "metadata": {},
   "outputs": [],
   "source": [
    "def kmeans_tune(X_lsa, n_clusters_max = 15,trials = 5) -> list[float]:\n",
    "    results = []\n",
    "    for n_clusters in range(2,n_clusters_max):\n",
    "        c_score = 0\n",
    "        for seed in range(trials):\n",
    "            kmeans = KMeans(\n",
    "                max_iter     = 100,\n",
    "                n_clusters   = n_clusters,\n",
    "                n_init       = 10,\n",
    "                random_state = seed,\n",
    "            ).fit(X_lsa)\n",
    "            c_score += silhouette_score(X_lsa,kmeans.labels_)\n",
    "\n",
    "        c_score /= trials\n",
    "        results.append(float(c_score))\n",
    "        # cluster_ids, cluster_sizes = np.unique(kmeans.labels_, return_counts=True)\n",
    "        # print(f\"Number of elements assigned to each cluster: {cluster_sizes}\")\n",
    "    return results"
   ]
  },
  {
   "cell_type": "code",
   "execution_count": null,
   "id": "be3a5747",
   "metadata": {},
   "outputs": [],
   "source": [
    "def query(url, data, mode):\n",
    "    match mode:\n",
    "        case 'POST':\n",
    "            item = requests.post(url,json=data)\n",
    "            item = json.loads(item.content.decode())\n",
    "        case 'GET':\n",
    "            item = requests.get(url)\n",
    "            item = json.loads(item.content.decode())\n",
    "    return item"
   ]
  },
  {
   "cell_type": "code",
   "execution_count": null,
   "id": "1d679aa9",
   "metadata": {},
   "outputs": [],
   "source": [
    "url  = \"http://127.0.0.1:5000/get_descs\"\n",
    "    \n",
    "data = query(url = url, data = None, mode = 'GET')\n",
    "IDS, desc = zip(*data)\n",
    "IDS, documents = np.array(IDS), np.array(desc)"
   ]
  },
  {
   "cell_type": "code",
   "execution_count": null,
   "id": "bcdca9f8",
   "metadata": {},
   "outputs": [],
   "source": [
    "X_lsa        = lsa_vectorizer.fit_transform(documents)\n",
    "results      = kmeans_tune(X_lsa, trials=5)\n",
    "n_clusters   = np.argmin(results) + 2\n",
    "\n",
    "kmeans = KMeans(\n",
    "        max_iter     = 100,\n",
    "        n_clusters   = n_clusters,\n",
    "        n_init       = 5,\n",
    "        random_state = 42,\n",
    "    ).fit(X_lsa)\n",
    "\n",
    "# Group each document IDS with their respective label\n",
    "clusters  = [(int(kmeans.labels_[idx]), d) for idx, d in enumerate(IDS)]\n",
    "# Use search id to find which label an id belongs to.\n",
    "search_id = {d: int(kmeans.labels_[idx]) for idx, d in enumerate(IDS)}\n",
    "search_id = {int(ID): int(label) for ID, label in search_id.items()}\n",
    "\n",
    "# n_clusters = max(clusters, key = lambda x: x[0])[0]\n",
    "\n",
    "groups = {}\n",
    "for n in range(n_clusters):\n",
    "    c = [id for label, id in clusters if label == n]\n",
    "    groups[f'GROUP {n}'] = c"
   ]
  },
  {
   "cell_type": "code",
   "execution_count": null,
   "id": "b1d6b602",
   "metadata": {},
   "outputs": [],
   "source": [
    "with open(os.path.join('Data','Groupings.json'),mode = 'w') as f:\n",
    "    json.dump(groups   ,f, cls = NpEncoder,indent=3)\n",
    "\n",
    "with open(os.path.join('Data','Search_ID.json'),mode = 'w') as f:\n",
    "    json.dump(search_id,f, cls = NpEncoder,indent=3)"
   ]
  },
  {
   "cell_type": "code",
   "execution_count": null,
   "id": "7c63a979",
   "metadata": {},
   "outputs": [],
   "source": [
    "with open(os.path.join('Data','Groupings.json'), mode = 'r') as f:\n",
    "    groups = json.load(f)"
   ]
  },
  {
   "cell_type": "code",
   "execution_count": null,
   "id": "6b6ef403",
   "metadata": {},
   "outputs": [],
   "source": [
    "plt.scatter( y= results,x = [i + 2 for i in range(len(results))])\n",
    "plt.xticks([i + 2 for i in range(len(results))])\n",
    "plt.show()"
   ]
  },
  {
   "cell_type": "code",
   "execution_count": null,
   "id": "2364aeef",
   "metadata": {},
   "outputs": [],
   "source": [
    "from sklearn.manifold import TSNE \n",
    "\n",
    "enc  = TSNE(n_components=2, random_state=42)\n",
    "cord = enc.fit_transform(X_lsa)\n",
    "plt.scatter(x = cord[:,0], y = cord[:,1], c= kmeans.labels_)\n",
    "plt.show()"
   ]
  },
  {
   "cell_type": "code",
   "execution_count": null,
   "id": "dc05950c",
   "metadata": {},
   "outputs": [],
   "source": [
    "# def best_k(results: list, cutoff = 0.98):\n",
    "#     \"\"\"\n",
    "#     Takes an array of reuslts and finds the \n",
    "#     index where the running summation croses the threshold.\n",
    "#     \"\"\"\n",
    "#     difference = []\n",
    "#     for idx in range(1,len(results)):\n",
    "#         diff = results[idx] - results[idx - 1]\n",
    "#         difference.append(diff)\n",
    "\n",
    "#     total = 0\n",
    "#     diff_total = sum(diff)\n",
    "#     values = [d/diff_total for d in diff]\n",
    "#     for idx, val in enumerate(values):\n",
    "#         total += val\n",
    "#         if total >= cutoff:\n",
    "#             return (idx + 2)"
   ]
  }
 ],
 "metadata": {
  "kernelspec": {
   "display_name": ".venv",
   "language": "python",
   "name": "python3"
  },
  "language_info": {
   "codemirror_mode": {
    "name": "ipython",
    "version": 3
   },
   "file_extension": ".py",
   "mimetype": "text/x-python",
   "name": "python",
   "nbconvert_exporter": "python",
   "pygments_lexer": "ipython3",
   "version": "3.11.5"
  }
 },
 "nbformat": 4,
 "nbformat_minor": 5
}
