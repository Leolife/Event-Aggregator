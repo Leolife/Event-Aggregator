{
 "cells": [
  {
   "cell_type": "code",
   "execution_count": null,
   "metadata": {},
   "outputs": [],
   "source": [
    "# results  = []\n",
    "# for idx in range(n_rows):\n",
    "#     row = df.iloc[idx].fillna('')\n",
    "#     item = {\n",
    "#         'TITLE': row['Title'],\n",
    "#         'DATE' : row['Start Date'],\n",
    "#         'MAINPAGE' : row['Main Page'],\n",
    "#         'ADDRESS1' : row['Address1'],\n",
    "#         'ADDRESS2' : row['Address2'],\n",
    "#         'WEHN' : row['When'],\n",
    "#         'THUMB': row['thumb'],\n",
    "#         'IMAGE' : row['image'],\n",
    "#         'DESC' : row['Desc'],\n",
    "#         'LongDesc': ''\n",
    "#     }\n",
    "#     results.append(item)\n"
   ]
  },
  {
   "cell_type": "code",
   "execution_count": null,
   "metadata": {},
   "outputs": [],
   "source": [
    "#from Levenshtein import ratio, jaro, distance\n",
    "from collections import Counter\n",
    "\n",
    "import pandas as pd\n",
    "#import numpy  as np\n",
    "\n",
    "import subprocess\n",
    "import requests\n",
    "import random\n",
    "# import gzip\n",
    "import json\n",
    "import math\n",
    "import os\n",
    "import re\n",
    "\n",
    "def set_default_path(directory: str | None = 'Event-Aggregator') -> str:\n",
    "    \"\"\"Changes the working directory to \"\"\"\n",
    "    while not os.getcwd().endswith(directory):\n",
    "        os.chdir('..')\n",
    "        if len(os.getcwd()) == 0:\n",
    "            raise FileExistsError\n",
    "    return os.getcwd()\n",
    "\n",
    "def query(url, data, mode):\n",
    "    match mode:\n",
    "        case 'POST':\n",
    "            item = requests.post(url,json=data)\n",
    "            item = json.loads(item.content.decode())\n",
    "        case 'GET':\n",
    "            item = requests.get(url)\n",
    "            item = json.loads(item.content.decode())\n",
    "    return item\n",
    "\n",
    "default_path    = os.path.join(set_default_path() ,'Production_Environment')\n",
    "server_path     = os.path.join(default_path       ,'Servers') \n",
    "collectors_path = os.path.join(server_path        ,'Collectors')\n",
    "\n",
    "# Events\n",
    "events_path     = os.path.join(collectors_path    ,'Events')\n",
    "data_path       = os.path.join(events_path        ,'Data')\n",
    "File_path       = os.path.join(data_path          ,'Final_Events.csv')\n",
    "\n",
    "# User Base\n",
    "UserBase_path  = os.path.join(collectors_path ,'UserBase')\n",
    "user_data_path = os.path.join(UserBase_path   ,'Data')\n",
    "user_data_file = os.path.join(user_data_path  ,'User_data.json')"
   ]
  },
  {
   "cell_type": "code",
   "execution_count": null,
   "metadata": {},
   "outputs": [],
   "source": [
    "# df = pd.read_csv(os.path.join(data_path,'Final_Events.csv'))"
   ]
  },
  {
   "cell_type": "markdown",
   "metadata": {},
   "source": [
    "---"
   ]
  },
  {
   "cell_type": "code",
   "execution_count": null,
   "metadata": {},
   "outputs": [],
   "source": [
    "# url  = \"http://127.0.0.1:5005/identify\"\n",
    "# data = query(url = url, data = None, mode = 'GET')"
   ]
  },
  {
   "cell_type": "code",
   "execution_count": null,
   "metadata": {},
   "outputs": [],
   "source": [
    "os.getcwd()"
   ]
  },
  {
   "cell_type": "code",
   "execution_count": null,
   "metadata": {},
   "outputs": [],
   "source": [
    "with open(user_data_file) as f:\n",
    "    data = json.load(f)"
   ]
  },
  {
   "cell_type": "code",
   "execution_count": null,
   "metadata": {},
   "outputs": [],
   "source": [
    "sample_user = random.choice(list(data.keys()))"
   ]
  },
  {
   "cell_type": "markdown",
   "metadata": {},
   "source": [
    "---"
   ]
  },
  {
   "cell_type": "code",
   "execution_count": null,
   "metadata": {},
   "outputs": [],
   "source": [
    "url  = \"http://127.0.0.1:5002/identify\"\n",
    "data = {\n",
    "    'NUMBER': 2\n",
    "}\n",
    "data = query(url = url,data = data, mode = 'GET')\n",
    "data"
   ]
  },
  {
   "cell_type": "code",
   "execution_count": null,
   "metadata": {},
   "outputs": [],
   "source": [
    "url  = \"http://127.0.0.1:5002/random_sample\"\n",
    "data = {\n",
    "    'NUMBER': 2\n",
    "}\n",
    "data = query(url = url,data = data, mode = 'POST')\n",
    "data"
   ]
  },
  {
   "cell_type": "code",
   "execution_count": null,
   "metadata": {},
   "outputs": [],
   "source": [
    "sample_user = list(data.keys())[0]\n",
    "sample_user"
   ]
  },
  {
   "cell_type": "code",
   "execution_count": null,
   "metadata": {},
   "outputs": [],
   "source": [
    "url  = \"http://127.0.0.1:5000/recc\"\n",
    "data = {\n",
    "    'USER_ID': sample_user,\n",
    "    'NUMBER': 10,\n",
    "    'MODE' : 'item'\n",
    "}\n",
    "data = query(url = url,data = data, mode = 'POST')\n",
    "data"
   ]
  },
  {
   "cell_type": "markdown",
   "metadata": {},
   "source": [
    "---"
   ]
  },
  {
   "cell_type": "code",
   "execution_count": null,
   "metadata": {},
   "outputs": [],
   "source": [
    "import scipy.sparse as sp\n",
    "import numpy as np"
   ]
  },
  {
   "cell_type": "code",
   "execution_count": null,
   "metadata": {},
   "outputs": [],
   "source": [
    "n_users = len(data.keys())\n",
    "n_users"
   ]
  },
  {
   "cell_type": "code",
   "execution_count": null,
   "metadata": {},
   "outputs": [],
   "source": [
    "n_events = 489"
   ]
  },
  {
   "cell_type": "code",
   "execution_count": null,
   "metadata": {},
   "outputs": [],
   "source": [
    "mat = sp.dok_matrix((n_users,n_events), dtype=np.int64)\n",
    "for idx, (user_id, user_data) in enumerate(data.items()):\n",
    "    u_interact = user_data['CLICKED']\n",
    "    for event_id, freq in u_interact.items():\n",
    "        event_id = int(event_id)\n",
    "        # Add our user and interactions to our mat\n",
    "        mat[idx,event_id] = freq"
   ]
  },
  {
   "cell_type": "code",
   "execution_count": null,
   "metadata": {},
   "outputs": [],
   "source": [
    "\n",
    "from sklearn.metrics                 import silhouette_score\n",
    "from sklearn.cluster                 import KMeans"
   ]
  },
  {
   "cell_type": "code",
   "execution_count": null,
   "metadata": {},
   "outputs": [],
   "source": [
    "X = mat.tocsr()"
   ]
  },
  {
   "cell_type": "code",
   "execution_count": null,
   "metadata": {},
   "outputs": [],
   "source": [
    "def user_kmeans(X, n_clusters_max = 15,trials = 5) -> list[float]:\n",
    "    results = []\n",
    "    for n_clusters in range(2,n_clusters_max):\n",
    "        c_score = 0\n",
    "        for seed in range(trials):\n",
    "            kmeans = KMeans(\n",
    "                max_iter     = 100,\n",
    "                n_clusters   = n_clusters,\n",
    "                n_init       = 10,\n",
    "                random_state = seed,\n",
    "            ).fit(X)\n",
    "            c_score += silhouette_score(X,kmeans.labels_)\n",
    "\n",
    "        c_score /= trials\n",
    "        results.append(float(c_score))\n",
    "        # cluster_ids, cluster_sizes = np.unique(kmeans.labels_, return_counts=True)\n",
    "        # print(f\"Number of elements assigned to each cluster: {cluster_sizes}\")\n",
    "    return results"
   ]
  },
  {
   "cell_type": "code",
   "execution_count": null,
   "metadata": {},
   "outputs": [],
   "source": [
    "results = user_kmeans(X)"
   ]
  },
  {
   "cell_type": "code",
   "execution_count": null,
   "metadata": {},
   "outputs": [],
   "source": [
    "n_clusters = np.argmin(results) + 2\n",
    "kmeans     = KMeans(\n",
    "                max_iter     = 100,\n",
    "                n_clusters   = n_clusters,\n",
    "                n_init       = 20,\n",
    "                random_state = 42,\n",
    "            ).fit(X)"
   ]
  },
  {
   "cell_type": "code",
   "execution_count": null,
   "metadata": {},
   "outputs": [],
   "source": [
    "entry = sp.dok_matrix((1,489), dtype=np.int8)"
   ]
  },
  {
   "cell_type": "code",
   "execution_count": null,
   "metadata": {},
   "outputs": [],
   "source": [
    "label = kmeans.predict(entry).item()"
   ]
  },
  {
   "cell_type": "code",
   "execution_count": null,
   "metadata": {},
   "outputs": [],
   "source": [
    "# entry.toarray()[0][0]"
   ]
  }
 ],
 "metadata": {
  "kernelspec": {
   "display_name": "Python 3",
   "language": "python",
   "name": "python3"
  },
  "language_info": {
   "codemirror_mode": {
    "name": "ipython",
    "version": 3
   },
   "file_extension": ".py",
   "mimetype": "text/x-python",
   "name": "python",
   "nbconvert_exporter": "python",
   "pygments_lexer": "ipython3",
   "version": "3.12.3"
  }
 },
 "nbformat": 4,
 "nbformat_minor": 2
}
