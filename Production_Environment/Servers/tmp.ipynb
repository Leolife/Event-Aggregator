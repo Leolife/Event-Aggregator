{
 "cells": [
  {
   "cell_type": "code",
   "execution_count": null,
   "metadata": {},
   "outputs": [],
   "source": [
    "# results  = []\n",
    "# for idx in range(n_rows):\n",
    "#     row = df.iloc[idx].fillna('')\n",
    "#     item = {\n",
    "#         'TITLE': row['Title'],\n",
    "#         'DATE' : row['Start Date'],\n",
    "#         'MAINPAGE' : row['Main Page'],\n",
    "#         'ADDRESS1' : row['Address1'],\n",
    "#         'ADDRESS2' : row['Address2'],\n",
    "#         'WEHN' : row['When'],\n",
    "#         'THUMB': row['thumb'],\n",
    "#         'IMAGE' : row['image'],\n",
    "#         'DESC' : row['Desc'],\n",
    "#         'LongDesc': ''\n",
    "#     }\n",
    "#     results.append(item)\n"
   ]
  },
  {
   "cell_type": "code",
   "execution_count": null,
   "metadata": {},
   "outputs": [],
   "source": [
    "from Levenshtein import ratio, jaro, distance\n",
    "from collections import Counter\n",
    "\n",
    "import pandas as pd\n",
    "import numpy  as np\n",
    "\n",
    "import subprocess\n",
    "import requests\n",
    "import random\n",
    "import gzip\n",
    "import json\n",
    "import math\n",
    "import os\n",
    "import re\n",
    "\n",
    "def set_default_path(directory: str | None = 'Event-Aggregator') -> str:\n",
    "    \"\"\"Changes the working directory to \"\"\"\n",
    "    while not os.getcwd().endswith(directory):\n",
    "        os.chdir('..')\n",
    "        if len(os.getcwd()) == 0:\n",
    "            raise FileExistsError\n",
    "    return os.getcwd()\n",
    "\n",
    "def query(url, data, mode):\n",
    "    match mode:\n",
    "        case 'POST':\n",
    "            item = requests.post(url,json=data)\n",
    "            item = json.loads(item.content.decode())\n",
    "        case 'GET':\n",
    "            item = requests.get(url)\n",
    "            item = json.loads(item.content.decode())\n",
    "    return item\n",
    "\n",
    "default_path    = os.path.join(set_default_path() ,'Production_Environment')\n",
    "server_path     = os.path.join(default_path       ,'Servers') \n",
    "collectors_path = os.path.join(server_path        ,'Collectors')\n",
    "\n",
    "# Events\n",
    "events_path     = os.path.join(collectors_path    ,'Events')\n",
    "data_path       = os.path.join(events_path        ,'Data')\n",
    "File_path       = os.path.join(data_path          ,'Final_Events.csv')\n",
    "\n",
    "# User Base\n",
    "UserBase_path  = os.path.join(collectors_path ,'UserBase')\n",
    "user_data_path = os.path.join(UserBase_path   ,'Data')\n",
    "user_data      = os.path.join(user_data_path  ,'User_data.json')"
   ]
  },
  {
   "cell_type": "code",
   "execution_count": 5,
   "metadata": {},
   "outputs": [],
   "source": [
    "df = pd.read_csv(os.path.join(data_path,'Final_Events.csv'))"
   ]
  },
  {
   "cell_type": "markdown",
   "metadata": {},
   "source": [
    "---"
   ]
  },
  {
   "cell_type": "code",
   "execution_count": 141,
   "metadata": {},
   "outputs": [],
   "source": [
    "url  = \"http://127.0.0.1:5004/item\"\n",
    "select = {\n",
    "    'USER_ID': 'Something',\n",
    "    'NUMBER': 2\n",
    "}#\n",
    "reccomendation = query(url = url, data = select, mode = 'POST')"
   ]
  }
 ],
 "metadata": {
  "kernelspec": {
   "display_name": ".venv",
   "language": "python",
   "name": "python3"
  },
  "language_info": {
   "codemirror_mode": {
    "name": "ipython",
    "version": 3
   },
   "file_extension": ".py",
   "mimetype": "text/x-python",
   "name": "python",
   "nbconvert_exporter": "python",
   "pygments_lexer": "ipython3",
   "version": "3.11.5"
  }
 },
 "nbformat": 4,
 "nbformat_minor": 2
}
