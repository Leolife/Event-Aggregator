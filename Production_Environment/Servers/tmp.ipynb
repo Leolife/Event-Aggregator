{
 "cells": [
  {
   "cell_type": "code",
   "execution_count": null,
   "metadata": {},
   "outputs": [],
   "source": [
    "from Levenshtein import ratio, jaro, distance\n",
    "from collections import Counter\n",
    "\n",
    "import pandas as pd\n",
    "import numpy  as np\n",
    "\n",
    "import subprocess\n",
    "import requests\n",
    "import random\n",
    "import gzip\n",
    "import json\n",
    "import math\n",
    "import os\n",
    "import re\n",
    "\n",
    "def set_default_path(directory: str | None = 'Event-Aggregator') -> str:\n",
    "    \"\"\"Changes the working directory to \"\"\"\n",
    "    while not os.getcwd().endswith(directory):\n",
    "        os.chdir('..')\n",
    "        if len(os.getcwd()) == 0:\n",
    "            raise FileExistsError\n",
    "    return os.getcwd()\n",
    "\n",
    "def query(url, data, mode):\n",
    "    match mode:\n",
    "        case 'POST':\n",
    "            item = requests.post(url,json=data)\n",
    "            item = json.loads(item.content.decode())\n",
    "        case 'GET':\n",
    "            item = requests.get(url)\n",
    "            item = json.loads(item.content.decode())\n",
    "    return item\n",
    "\n",
    "default_path    = os.path.join(set_default_path() ,'Production_Environment')\n",
    "server_path     = os.path.join(default_path       ,'Servers') \n",
    "collectors_path = os.path.join(server_path        ,'Collectors')\n",
    "\n",
    "# Events\n",
    "events_path     = os.path.join(collectors_path    ,'Events')\n",
    "data_path       = os.path.join(events_path        ,'Data')\n",
    "File_path       = os.path.join(data_path          ,'Final_Events.csv')\n",
    "\n",
    "# User Base\n",
    "UserBase_path  = os.path.join(collectors_path ,'UserBase')\n",
    "user_data_path = os.path.join(UserBase_path   ,'Data')\n",
    "user_data      = os.path.join(user_data_path  ,'User_data.json')"
   ]
  },
  {
   "cell_type": "code",
   "execution_count": 5,
   "metadata": {},
   "outputs": [],
   "source": [
    "df = pd.read_csv(os.path.join(data_path,'Final_Events.csv'))"
   ]
  },
  {
   "cell_type": "code",
   "execution_count": 13,
   "metadata": {},
   "outputs": [
    {
     "name": "stdout",
     "output_type": "stream",
     "text": [
      "Sample username: zavalaeric\n"
     ]
    }
   ],
   "source": [
    "with open(user_data,mode = 'r') as f:\n",
    "    users = json.load(f)\n",
    "\n",
    "usernames = list(users.keys())\n",
    "username = random.choice(usernames)\n",
    "print(f'Sample username: {username}')\n",
    "interactions = users[username]['CLICKED']"
   ]
  },
  {
   "cell_type": "code",
   "execution_count": null,
   "metadata": {},
   "outputs": [],
   "source": [
    "# results  = []\n",
    "# for idx in range(n_rows):\n",
    "#     row = df.iloc[idx].fillna('')\n",
    "#     item = {\n",
    "#         'TITLE': row['Title'],\n",
    "#         'DATE' : row['Start Date'],\n",
    "#         'MAINPAGE' : row['Main Page'],\n",
    "#         'ADDRESS1' : row['Address1'],\n",
    "#         'ADDRESS2' : row['Address2'],\n",
    "#         'WEHN' : row['When'],\n",
    "#         'THUMB': row['thumb'],\n",
    "#         'IMAGE' : row['image'],\n",
    "#         'DESC' : row['Desc'],\n",
    "#         'LongDesc': ''\n",
    "#     }\n",
    "#     results.append(item)\n"
   ]
  },
  {
   "cell_type": "code",
   "execution_count": null,
   "metadata": {},
   "outputs": [],
   "source": [
    "url  = \"http://127.0.0.1:5000/get_col\"\n",
    "select = {\n",
    "    'COL': 'ID'\n",
    "}\n",
    "ids  = query(url = url, data = select, mode = 'POST')"
   ]
  },
  {
   "cell_type": "code",
   "execution_count": 23,
   "metadata": {},
   "outputs": [],
   "source": [
    "url  = \"http://127.0.0.1:5001/get_weights\"\n",
    "select = {\n",
    "    'ITEMS': interactions\n",
    "}\n",
    "weights  = query(url = url, data = select, mode = 'POST')"
   ]
  },
  {
   "cell_type": "code",
   "execution_count": null,
   "metadata": {},
   "outputs": [],
   "source": [
    "# Reorder in the same \n",
    "weights = [weights[str(i)] for i in ids]\n",
    "selections = tuple(random.choices(population=ids,weights = weights, k = 5))"
   ]
  },
  {
   "cell_type": "code",
   "execution_count": 45,
   "metadata": {},
   "outputs": [
    {
     "data": {
      "text/plain": [
       "tuple"
      ]
     },
     "execution_count": 45,
     "metadata": {},
     "output_type": "execute_result"
    }
   ],
   "source": [
    "type(selections)"
   ]
  },
  {
   "cell_type": "code",
   "execution_count": 48,
   "metadata": {},
   "outputs": [],
   "source": [
    "url  = \"http://127.0.0.1:5000/get_rows\"\n",
    "select = {\n",
    "    'IDS': selections\n",
    "}\n",
    "events_items  = query(url = url, data = select, mode = 'POST')"
   ]
  },
  {
   "cell_type": "code",
   "execution_count": 50,
   "metadata": {},
   "outputs": [
    {
     "name": "stdout",
     "output_type": "stream",
     "text": [
      "[25, 'Anime Milwaukee 2025', 'Mar 7', 'https://www.visitmilwaukee.org/event/anime-milwaukee-2025/10586/', 'Baird Center, 400 W Wisconsin Ave', 'Milwaukee, WI', 'Fri, Mar 7, 9 AM – Sun, Mar 9, 4 PM', 'https://encrypted-tbn0.gstatic.com/images?q=tbn:ANd9GcQsa4jGrPxbgFCGiFMK4E0nb5_jIKTAAK-083DNrks9ENVKVALJDJKKGEI&s', 'https://encrypted-tbn0.gstatic.com/images?q=tbn:ANd9GcQLj8J3LVFsIcVs8a-AsnJ-aEEUqMK4UKVfuK4giklbAQ&s=10', \"Anime Milwaukee (AMKE) is Wisconsin's largest anime convention, celebrating Japanese animation, culture, and fandom. The upcoming event will take place from March 7 to 9, 2025, at the Baird Center...\", '']\n",
      "[62, 'Isekai Anime Con', 'Mar 22', 'https://www.cityspark.com/html5-calendar/details/isekai-anime-con/15170443/2025-03-22T00', 'Mountain America Exposition Center, 9575 State St', 'Sandy, UT', 'Sat, Mar 22', 'https://encrypted-tbn0.gstatic.com/images?q=tbn:ANd9GcRxXyrJ3X20OamC793Jk-i5_T2aI6zyQPPJQQZaw4-9XrHyb2gQfC91PXg&s', 'https://encrypted-tbn0.gstatic.com/images?q=tbn:ANd9GcSq2cpUCOa_DXpY3KdAlAyULEXAHRR5MLRN8_ttxqsVaQG9ymxVEMegDWm26w&s=10', '', '']\n",
      "[219, 'PAX East', 'Mar 8', 'https://www.clocate.com/pax-east/23570/', 'Boston Convention and Exhibition Center, 415 Summer St', 'Boston, MA', 'Sat, Mar 8 – Tue, Mar 11', 'https://encrypted-tbn0.gstatic.com/images?q=tbn:ANd9GcTbcc6ZNLIzbYz73thOUpbzWLzz7uHHSYMefsC7FGm5IXpyvLumT1E-Bm6Osw&s=10', 'https://encrypted-tbn0.gstatic.com/images?q=tbn:ANd9GcR7UA1GRxrplA-3KHL38hP5j9_EuMKmLt_jLn2GJXsjnPgpeQpoU2O2yg4Ofw&s=10', 'PAX East is an exhibition dedicated to gamers. Products and Services: Top Video Game Publishers, Indie Developers, PC Gaming, Gaming Consoles, Tabletop Gaming, Gaming Peripherals and Accessories...', '']\n",
      "[273, 'Night Court Revelry: A Premier Fantasy Ball', 'Mar 8', 'https://www.facebook.com/events/nashville-tn/night-court-revelry-a-premier-fantasy-ball/8851018481575076/', 'City Winery Nashville, 609 Lafayette St', 'Nashville, TN', 'Sat, Mar 8, 7:00 – 11:30 PM CST', 'https://encrypted-tbn0.gstatic.com/images?q=tbn:ANd9GcS9LX_r6hiuxfvfbUwQ05461G1xAvLaqSVn0qh_Tgg&s', 'https://encrypted-tbn0.gstatic.com/images?q=tbn:ANd9GcSR7QofPyg3kmPwEq2w09beIOs8ZaHkSy0IFdFfFt8Xmg&s', 'Step into a realm of magic and revelry with your ticket to the Nashville Night Court Revelry! The Night Court Revelry is our invitation to you – a gateway to a world where stars whisper secrets...', '']\n",
      "[465, 'Boston Bitdown', 'Mar 8', 'https://therockwell.org/calendar/boston-bitdown/', 'The Rockwell, 255 Elm St', 'Somerville, MA', 'Sat, Mar 8, 12 – 6 PM EST', 'https://encrypted-tbn0.gstatic.com/images?q=tbn:ANd9GcRAfSmJSnONe_9620YQcN-MlYfISNx1ATtnZG66Tro&s', 'https://encrypted-tbn0.gstatic.com/images?q=tbn:ANd9GcRUKz57dK4dbZt-pF8RVGrLx5JfW_TQ-JdIv4BLOGscCQ&s=10', 'Boston BitDown, a new artist-driven music festival celebrating Chiptune/Digital Fusion\\\\\\\\n', '']\n"
     ]
    }
   ],
   "source": [
    "for item in events_items:\n",
    "    print(item)"
   ]
  },
  {
   "cell_type": "markdown",
   "metadata": {},
   "source": [
    "---"
   ]
  },
  {
   "cell_type": "code",
   "execution_count": 131,
   "metadata": {},
   "outputs": [],
   "source": [
    "url  = \"http://127.0.0.1:5004/item\"\n",
    "select = {\n",
    "    'USER_ID': 'Something',\n",
    "    'NUMBER': 2\n",
    "}#\n",
    "reccomendation = query(url = url, data = select, mode = 'POST')"
   ]
  },
  {
   "cell_type": "code",
   "execution_count": 132,
   "metadata": {},
   "outputs": [
    {
     "data": {
      "text/plain": [
       "[[429,\n",
       "  'MomoCon 2025',\n",
       "  'May 22',\n",
       "  'https://animecons.com/events/info/24114/momocon-2025',\n",
       "  'Georgia World Congress Center, 285 Andrew Young International Blvd NW',\n",
       "  'Atlanta, GA',\n",
       "  'Thu, May 22 – Sun, May 25',\n",
       "  'https://www.google.com/maps/vt/data=i4iZQe1eEgJZ5P8ZppzS0Hp2zuxx1oqhkZ6LZ1ZRhn-oN3ha_0CzL5iN4qumS-Q3-GlXne6O7ZsOzcsKGF87EAzWi_fj5G1LLQ79AaJsiL10BxQ-NQs',\n",
       "  '',\n",
       "  'MomoCon brings together fans of Japanese Anime, American Animation, Comics, Video Games, and Tabletop Games to celebrate their passion by costuming / cosplay, browsing the huge exhibitors hall...',\n",
       "  ''],\n",
       " [432,\n",
       "  'Momocon - Atlanta, GA - May 22-25 — Tea & Absinthe',\n",
       "  'May 22',\n",
       "  'https://www.teaandabsinthe.com/event-calendar/2025/5/22/momocon-atlanta-ga-may-22-25',\n",
       "  '',\n",
       "  '',\n",
       "  'Thu, May 22, 5 PM – Sun, May 25, 5 PM',\n",
       "  'https://encrypted-tbn0.gstatic.com/images?q=tbn:ANd9GcRFkpuzM63ko-vSTRJcATdDUbDkcqN6MDq0ADKvPaeISkwRog7PW1Xhvg0&s',\n",
       "  'https://encrypted-tbn0.gstatic.com/images?q=tbn:ANd9GcTYZkB0g_uyDumNV0TkkLTPhrV-5kpGQTr6MnvdB1E5GQeQOjWp6Rsae_yJjA&s=10',\n",
       "  '',\n",
       "  '']]"
      ]
     },
     "execution_count": 132,
     "metadata": {},
     "output_type": "execute_result"
    }
   ],
   "source": [
    "reccomendation"
   ]
  },
  {
   "cell_type": "code",
   "execution_count": null,
   "metadata": {},
   "outputs": [],
   "source": [
    "interactinos = list(sample_user.values())[0]['CLICKED']"
   ]
  },
  {
   "cell_type": "code",
   "execution_count": 74,
   "metadata": {},
   "outputs": [],
   "source": [
    "# interactions"
   ]
  }
 ],
 "metadata": {
  "kernelspec": {
   "display_name": ".venv",
   "language": "python",
   "name": "python3"
  },
  "language_info": {
   "codemirror_mode": {
    "name": "ipython",
    "version": 3
   },
   "file_extension": ".py",
   "mimetype": "text/x-python",
   "name": "python",
   "nbconvert_exporter": "python",
   "pygments_lexer": "ipython3",
   "version": "3.11.5"
  }
 },
 "nbformat": 4,
 "nbformat_minor": 2
}
