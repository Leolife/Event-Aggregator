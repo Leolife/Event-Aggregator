{
 "cells": [
  {
   "cell_type": "code",
   "execution_count": null,
   "metadata": {},
   "outputs": [],
   "source": [
    "from Levenshtein import ratio, jaro, distance\n",
    "from collections import Counter\n",
    "\n",
    "import pandas as pd\n",
    "import requests\n",
    "import subprocess\n",
    "import gzip\n",
    "import json\n",
    "import math\n",
    "import os\n",
    "import re\n",
    "\n",
    "def set_default_path(directory: str | None = 'Event-Aggregator') -> str:\n",
    "    \"\"\"Changes the working directory to \"\"\"\n",
    "    while not os.getcwd().endswith(directory):\n",
    "        os.chdir('..')\n",
    "        if len(os.getcwd()) == 0:\n",
    "            raise FileExistsError\n",
    "    return os.getcwd()\n",
    "\n",
    "def query(url, data, mode):\n",
    "    match mode:\n",
    "        case 'POST':\n",
    "            item = requests.post(url,json=data)\n",
    "            item = json.loads(item.content.decode())\n",
    "        case 'GET':\n",
    "            item = requests.get(url)\n",
    "            item = json.loads(item.content.decode())\n",
    "    return item\n",
    "\n",
    "default_path = os.path.join(set_default_path() ,'Production_Environment')\n",
    "server_path  = os.path.join(default_path,'Servers') \n",
    "collectors_path = os.path.join(server_path,'Collectors')\n",
    "events_path  = os.path.join(collectors_path,'Events')\n",
    "data_path    = os.path.join(events_path,'Data')\n",
    "File_path    = os.path.join(data_path, 'Final_Events.csv')"
   ]
  },
  {
   "cell_type": "code",
   "execution_count": 28,
   "metadata": {},
   "outputs": [],
   "source": [
    "df = pd.read_csv('Final_Events.csv')"
   ]
  },
  {
   "cell_type": "code",
   "execution_count": 54,
   "metadata": {},
   "outputs": [
    {
     "data": {
      "text/plain": [
       "(489, 9)"
      ]
     },
     "execution_count": 54,
     "metadata": {},
     "output_type": "execute_result"
    }
   ],
   "source": [
    "n_rows, n_columns = df.shape\n",
    "n_rows,n_columns"
   ]
  },
  {
   "cell_type": "code",
   "execution_count": 57,
   "metadata": {},
   "outputs": [
    {
     "data": {
      "text/plain": [
       "['Title',\n",
       " 'Desc',\n",
       " 'Start Date',\n",
       " 'When',\n",
       " 'Main Page',\n",
       " 'Address1',\n",
       " 'Address2',\n",
       " 'thumb',\n",
       " 'image']"
      ]
     },
     "execution_count": 57,
     "metadata": {},
     "output_type": "execute_result"
    }
   ],
   "source": [
    "list(df.columns)"
   ]
  },
  {
   "cell_type": "code",
   "execution_count": 76,
   "metadata": {},
   "outputs": [],
   "source": [
    "results  = []\n",
    "for idx in range(n_rows):\n",
    "    row = df.iloc[idx].fillna('')\n",
    "    item = {\n",
    "        'TITLE': row['Title'],\n",
    "        'DATE' : row['Start Date'],\n",
    "        'MAINPAGE' : row['Main Page'],\n",
    "        'ADDRESS1' : row['Address1'],\n",
    "        'ADDRESS2' : row['Address2'],\n",
    "        'WEHN' : row['When'],\n",
    "        'THUMB': row['thumb'],\n",
    "        'IMAGE' : row['image'],\n",
    "        'DESC' : row['Desc'],\n",
    "        'LongDesc': ''\n",
    "    }\n",
    "    results.append(item)\n"
   ]
  },
  {
   "cell_type": "code",
   "execution_count": 104,
   "metadata": {},
   "outputs": [
    {
     "data": {
      "text/plain": [
       "[[15,\n",
       "  'Marvel Rivals In-Person Stream Viewing Esports',\n",
       "  'Mar 2',\n",
       "  'https://www.eventbrite.com/e/marvel-rivals-in-person-stream-viewing-esports-tickets-1260447184459',\n",
       "  'Santa Anita Park, 285 W Huntington Dr',\n",
       "  'Arcadia, CA',\n",
       "  'Sun, Mar 2, 11 AM – 1 PM PST',\n",
       "  'https://www.google.com/maps/vt/data=WgsdpaHj5ciyKNJ2yn_8P0wSjO4gV3hsgS4sfCx47XxFN0O94FAKMZeYrF4zlicCaW5H1nGIt_QM-72X_3Xv7EBbxZF4JZvuHZcX6vio9zjm6Mnd8Iw',\n",
       "  '',\n",
       "  'We are hosting an in-person meetup to watch a popular streamer together! Come have a great time! We are excited to watch esports together!',\n",
       "  '']]"
      ]
     },
     "execution_count": 104,
     "metadata": {},
     "output_type": "execute_result"
    }
   ],
   "source": [
    "url  = \"http://127.0.0.1:5000/sample\"\n",
    "    \n",
    "query(url = url, data = None, mode = 'GET')"
   ]
  },
  {
   "cell_type": "code",
   "execution_count": 102,
   "metadata": {},
   "outputs": [
    {
     "data": {
      "text/plain": [
       "{'Message': 'ok'}"
      ]
     },
     "execution_count": 102,
     "metadata": {},
     "output_type": "execute_result"
    }
   ],
   "source": [
    "url  = \"http://127.0.0.1:5000/save_events\"\n",
    "    \n",
    "select = {\n",
    "    'COL': 'DESC'\n",
    "}\n",
    "query(url = url, data = results, mode = 'POST')"
   ]
  }
 ],
 "metadata": {
  "kernelspec": {
   "display_name": ".venv",
   "language": "python",
   "name": "python3"
  },
  "language_info": {
   "codemirror_mode": {
    "name": "ipython",
    "version": 3
   },
   "file_extension": ".py",
   "mimetype": "text/x-python",
   "name": "python",
   "nbconvert_exporter": "python",
   "pygments_lexer": "ipython3",
   "version": "3.11.5"
  }
 },
 "nbformat": 4,
 "nbformat_minor": 2
}
