{
 "cells": [
  {
   "cell_type": "code",
   "execution_count": 23,
   "metadata": {},
   "outputs": [],
   "source": [
    "from   Levenshtein import ratio\n",
    "\n",
    "import subprocess, signal\n",
    "import pandas      as pd\n",
    "import requests\n",
    "import random\n",
    "import json\n",
    "import json\n",
    "import os\n",
    "\n",
    "def set_default_path(directory: str | None = 'Event-Aggregator') -> str:\n",
    "    \"\"\"Changes the working directory to \"\"\"\n",
    "    while not os.getcwd().endswith(directory):\n",
    "        os.chdir('..')\n",
    "        if len(os.getcwd()) == 0:\n",
    "            raise FileExistsError\n",
    "    return os.getcwd()\n",
    "\n",
    "default_path = os.path.join(set_default_path() ,'Production_Environment')\n",
    "data_path    = os.path.join(default_path  ,'Data')\n",
    "events_path  = os.path.join(data_path     ,'Final_Events.csv')"
   ]
  },
  {
   "cell_type": "code",
   "execution_count": 19,
   "metadata": {},
   "outputs": [],
   "source": [
    "def run_cmd(cmd: list[str]) -> str:\n",
    "    return subprocess.run(cmd, stdout=subprocess.PIPE).stdout.decode('utf-8')"
   ]
  },
  {
   "cell_type": "code",
   "execution_count": 27,
   "metadata": {},
   "outputs": [
    {
     "ename": "AssertionError",
     "evalue": "",
     "output_type": "error",
     "traceback": [
      "\u001b[0;31m---------------------------------------------------------------------------\u001b[0m",
      "\u001b[0;31mAssertionError\u001b[0m                            Traceback (most recent call last)",
      "Cell \u001b[0;32mIn[27], line 2\u001b[0m\n\u001b[1;32m      1\u001b[0m processes \u001b[38;5;241m=\u001b[39m [entry \u001b[38;5;28;01mfor\u001b[39;00m entry \u001b[38;5;129;01min\u001b[39;00m run_cmd(cmd \u001b[38;5;241m=\u001b[39m [\u001b[38;5;124m'\u001b[39m\u001b[38;5;124mps\u001b[39m\u001b[38;5;124m'\u001b[39m])\u001b[38;5;241m.\u001b[39msplit(\u001b[38;5;124m'\u001b[39m\u001b[38;5;130;01m\\n\u001b[39;00m\u001b[38;5;124m'\u001b[39m) \u001b[38;5;28;01mif\u001b[39;00m \u001b[38;5;124m'\u001b[39m\u001b[38;5;124m.venv/bin/flask\u001b[39m\u001b[38;5;124m'\u001b[39m \u001b[38;5;129;01min\u001b[39;00m entry]\n\u001b[0;32m----> 2\u001b[0m \u001b[38;5;28;01massert\u001b[39;00m(\u001b[38;5;28mlen\u001b[39m(processes)) \u001b[38;5;241m==\u001b[39m \u001b[38;5;241m2\u001b[39m\n\u001b[1;32m      3\u001b[0m t \u001b[38;5;241m=\u001b[39m [p\u001b[38;5;241m.\u001b[39msplit()[\u001b[38;5;241m0\u001b[39m] \u001b[38;5;28;01mfor\u001b[39;00m p \u001b[38;5;129;01min\u001b[39;00m processes]\n\u001b[1;32m      4\u001b[0m t \u001b[38;5;241m=\u001b[39m \u001b[38;5;28mlist\u001b[39m(\u001b[38;5;28mmap\u001b[39m(\u001b[38;5;28mint\u001b[39m,t))\n",
      "\u001b[0;31mAssertionError\u001b[0m: "
     ]
    }
   ],
   "source": [
    "processes = [entry for entry in run_cmd(cmd = ['ps']).split('\\n') if '.venv/bin/flask' in entry]\n",
    "assert(len(processes)) == 2\n",
    "t = [p.split()[0] for p in processes]\n",
    "t = list(map(int,t))\n",
    "for p in t:\n",
    "    os.kill(p,signal.SIGKILL)"
   ]
  },
  {
   "cell_type": "code",
   "execution_count": 87,
   "metadata": {},
   "outputs": [
    {
     "data": {
      "text/plain": [
       "{'Address1': 'Cherry Valley Public Library District, 755 E State St',\n",
       " 'Address2': 'Cherry Valley, IL',\n",
       " 'Desc': 'Come and discuss new and old favorite manga, participate in themed activities, try Asian snacks, and watch anime in a monthly group dedicated to all things manga! Ages 12-17 . Registration is...',\n",
       " 'Main Page': 'https://cherryvalleylib.librarymarket.com/event/anime-manga-madness-65115',\n",
       " 'Start Date': 'Mar 3',\n",
       " 'Title': 'Anime & Manga Madness',\n",
       " 'When': 'Mon, Mar 3, 6 – 7 PM',\n",
       " 'image': 'https://encrypted-tbn0.gstatic.com/images?q=tbn:ANd9GcR0WJWHobjW_nPhH4fgMNHz6mAx04Zlh_XA3BNBHknXow&s=10',\n",
       " 'thumb': 'https://encrypted-tbn0.gstatic.com/images?q=tbn:ANd9GcQi0YMAcvBE7c9dIgurLKgFXPKL6X2ueQ2MNcqj4Hs&s'}"
      ]
     },
     "execution_count": 87,
     "metadata": {},
     "output_type": "execute_result"
    }
   ],
   "source": [
    "url  = \"http://127.0.0.1:5001/search_idx\"\n",
    "data = {\"IDX\": 20}\n",
    "item = requests.post(url,json=data)\n",
    "item = json.loads(item.content.decode())\n",
    "item\n",
    "#sample_user = random.choice([u for u in item.keys()])\n",
    "#sample_user"
   ]
  },
  {
   "cell_type": "code",
   "execution_count": 88,
   "metadata": {},
   "outputs": [
    {
     "data": {
      "text/plain": [
       "'jennifer10'"
      ]
     },
     "execution_count": 88,
     "metadata": {},
     "output_type": "execute_result"
    }
   ],
   "source": [
    "url  = \"http://127.0.0.1:5000/random_sample\"\n",
    "data = {'NUMBER': 1}\n",
    "item = requests.post(url, json = data)\n",
    "item = json.loads(item.content.decode())\n",
    "#sample_user = random.choice([u for u in item.keys()])\n",
    "sample_user = list(item.keys())[0]\n",
    "sample_user"
   ]
  },
  {
   "cell_type": "code",
   "execution_count": 90,
   "metadata": {},
   "outputs": [
    {
     "data": {
      "text/plain": [
       "[{'Address1': 'Dalton Convention Center, 2211 Tony Ingle Parkway',\n",
       "  'Address2': 'Dalton, GA',\n",
       "  'Desc': 'Friday: 2pm-Midnight Saturday: 10am-Midnight Sunday: 10am-5pm VENDOR HALL HOURS Friday: 2pm-8pm Saturday: 10am-7pm Sunday: 10am-5pm',\n",
       "  'Main Page': 'https://daltonconventioncenter.com/event/metroham-con-trek-wars/2025-06-22/',\n",
       "  'Start Date': 'Jun 22',\n",
       "  'Title': 'Metrotham Con – Trek Wars',\n",
       "  'When': 'Sun, Jun 22, 10 AM – 5 PM',\n",
       "  'image': '',\n",
       "  'thumb': 'https://www.google.com/maps/vt/data=hmMNA9yEFGP5lJlpYOphaaqt3GvV-9-KsbYxfUvuI9wM75fFev1xU7oKThY8nsUz0fq-RNDcjGJv6MzrzOpOg6FbDo0UoZAx1GptTl8AuD73De8-dyA'},\n",
       " {'Address1': 'Sculpture Fields at Montague Park, 1800 Polk St',\n",
       "  'Address2': 'Chattanooga, TN',\n",
       "  'Desc': 'The SeaLight Festival is illuminating The Sculpture Fields at Montague Park with a must-see display of electrifying handmade, traditional Chinese lanterns. Opening February 20 and running through...',\n",
       "  'Main Page': 'https://www.local3news.com/community/community-calendar/?/event/9582979/61196486/chattabrew-tour-brewery-tour-and-beer-tasting#!/details/sealight-festival-chattanooga/15079644/2025-03-08T17',\n",
       "  'Start Date': 'Mar 8',\n",
       "  'Title': 'SeaLight Festival Chattanooga',\n",
       "  'When': 'Sat, Mar 8, 5 – 9 PM EST',\n",
       "  'image': 'https://encrypted-tbn0.gstatic.com/images?q=tbn:ANd9GcR2HeG1zATbqxZJsTq_QoSc8xgihv2nvcH-vWkeTRxAOiidescFRlICJQ7lDA&s=10',\n",
       "  'thumb': 'https://encrypted-tbn0.gstatic.com/images?q=tbn:ANd9GcQ0zhmnVhEYJFF3EnKoyNJybrQJF5pdOiwHoM1KWRtdwda_zoHVIfoCMGk&s'},\n",
       " {'Address1': 'Headcrash, Hamburger Berg 13',\n",
       "  'Address2': 'Hamburg, Germany',\n",
       "  'Desc': \"The Raven Age Having established their name as one of the finest in modern British metal, thanks to three brilliant albums, 2023's Blood Omen, 2019’s Conspiracy and Darkness Will Rise debut in...\",\n",
       "  'Main Page': 'https://scoot.evvnt.com/?_evDiscoveryPath=/event/1033661236n-the-raven-age',\n",
       "  'Start Date': 'Mar 7',\n",
       "  'Title': 'The Raven Age',\n",
       "  'When': 'Fri, Mar 7, 8 PM – Sat, Mar 8, 12 AM GMT+1',\n",
       "  'image': 'https://encrypted-tbn0.gstatic.com/images?q=tbn:ANd9GcQJlrJ1nWNxtsjkWvIfx0WvxkufIGa3YzXwDZ8GtVXYZZ3vNSMuiCAbmcoCeA&s=10',\n",
       "  'thumb': 'https://encrypted-tbn0.gstatic.com/images?q=tbn:ANd9GcTxFQi6hA5kQ77bsa2FQe_nUcF1fyYrqASh8kQutiGTWRAiw5GWHujhyjQ&s'},\n",
       " {'Address1': 'ROXY Prague, Dlouhá 33',\n",
       "  'Address2': 'Prague 1, Czechia',\n",
       "  'Desc': \"**American rapper The Game will perform at Prague's Roxy on March 9 as part of his *The Documentary 20th Anniversary Tour*.** Released in 2005, *The Documentary* solidified The Game as a dominant...\",\n",
       "  'Main Page': 'https://goout.net/de/the-game-the-documentary-20th-anniversary-tour/szjiojx/',\n",
       "  'Start Date': 'Mar 9',\n",
       "  'Title': 'The Game, The Documentary 20th Anniversary Tour',\n",
       "  'When': 'Sun, Mar 9, 7:30 – 10:30 PM GMT+1',\n",
       "  'image': '',\n",
       "  'thumb': 'https://www.google.com/maps/vt/data=FZpV1-SfFtz0vpRWoQBJW3GREipr5u5MYk_ZAd555QEOidamRR00OjmXVo6TzURt6HLn0yjos4BfeyfS4n1h6rJ6soL9osrrgrs-1qsvTHBKSW32dWw'},\n",
       " {'Address1': 'Farm Bureau Exposition Center, 945 E Baddour Pkwy',\n",
       "  'Address2': 'Lebanon, TN',\n",
       "  'Desc': 'Buy METROCON - Saturday tickets to watch the event live at competitive prices. View the schedule and select seats for the event.',\n",
       "  'Main Page': 'https://www.vipticketscanada.ca/6821474/METROCON-Saturday-tickets',\n",
       "  'Start Date': 'Jul 28',\n",
       "  'Title': 'METROCON - Saturday',\n",
       "  'When': 'Mon, Jul 28, 10:30 PM CDT',\n",
       "  'image': 'https://encrypted-tbn0.gstatic.com/images?q=tbn:ANd9GcQlWz5euiNALqroxnN3PXa2zFkihA3ga-hOS-vPI52dkP6KwTMhoapgwVKJNQ&s=10',\n",
       "  'thumb': 'https://encrypted-tbn0.gstatic.com/images?q=tbn:ANd9GcTPrHeeO-T2XwJsVC_Fgp3G4jwDCVO6TeOX2kqqofbqevSTJEaX_P_u-qM&s'},\n",
       " {'Address1': 'Altenburg 1964, Partyzánská 18/23',\n",
       "  'Address2': 'Holešovice, Prague 7, Czechia',\n",
       "  'Desc': 'ATG x DURACELL.PRAGUE Be ready to get 🅁🄴🄲🄷🄰🅁🄶🄴🄳! Duracell is all about bringing you a variety of genres! Get ready for high-voltage electro, futuristic bass, and of course, the banger...',\n",
       "  'Main Page': 'https://ra.co/events/2098887',\n",
       "  'Start Date': 'Mar 8',\n",
       "  'Title': 'DURACELL x ATG: Chryzotil271 (live), SJ Yellow, tmk, Leafur',\n",
       "  'When': 'Sat, Mar 8, 11 PM – Sun, Mar 9, 6 AM GMT+1',\n",
       "  'image': '',\n",
       "  'thumb': 'https://www.google.com/maps/vt/data=Ps09e_R-neLS1A7DB--G5wHwRByvwitTdzL2MahLgJ7zex8ndCnBdsT14N1gyjDp78Tuu-LHn8iHm8b1zd6kygb1Zm5nf3pzYp61gFTdvC4X_5Gz2DE'},\n",
       " {'Address1': 'Club \"Arci Xanadú\", Via Varesina, 72',\n",
       "  'Address2': 'Como, Province of Como, Italy',\n",
       "  'Desc': 'All guitaring events in Como, Lombardia. Here you can find more information about Upcoming events in Como like parties, concerts, meets,shows, sports, club, reunion, Performance',\n",
       "  'Main Page': 'https://allevents.in/como-lo/guitaring',\n",
       "  'Start Date': 'Mar 8',\n",
       "  'Title': \"A WOMAN'S DAY - Omaggio alle voci femminili della musica - SPAZIO GLORIA (COMO)\",\n",
       "  'When': 'Sat, Mar 8, 9 PM GMT+1',\n",
       "  'image': 'https://encrypted-tbn0.gstatic.com/images?q=tbn:ANd9GcT-aggC98vk-GwWLNivc07JIGIM0aN5J1CMRqVQgZ9TEowx0ePlhTp09l0HYg&s',\n",
       "  'thumb': 'https://encrypted-tbn0.gstatic.com/images?q=tbn:ANd9GcRAZ9-8jfRpCLJqhkn0ZqkidpYP6-a35EcxUhouqA_Ff7RALnJl1e0IFzA&s'},\n",
       " {'Address1': 'Fållan, Hallgränd 19',\n",
       "  'Address2': 'Johanneshov, Sweden',\n",
       "  'Desc': 'Find tickets for The Game at Fållan in Johanneshov on 3/27/2025 at 7:00 PM',\n",
       "  'Main Page': 'https://open.spotify.com/concert/1sMDQA5WDZcG9rLMvs6SKs',\n",
       "  'Start Date': 'Mar 27',\n",
       "  'Title': 'The Game',\n",
       "  'When': 'Thu, Mar 27, 7 – 10 PM GMT+1',\n",
       "  'image': 'https://encrypted-tbn0.gstatic.com/images?q=tbn:ANd9GcTsA4X2rnmOpIzh2fq3ss34AW-LGqw-XI5Q8JyEpvlbyMXQ1LS2E1HlUBfSyoU&s=10',\n",
       "  'thumb': 'https://encrypted-tbn0.gstatic.com/images?q=tbn:ANd9GcS4V23MtN3ugPtF44nHWJHZSQn5BDi9Z41YDBrT6zIR_BrAP88-WLFafJg&s'},\n",
       " {'Address1': 'EV Connect Charging Station, 5100 I-30',\n",
       "  'Address2': 'Fate, TX',\n",
       "  'Desc': 'Guess what time it is… it’s live music time! Relax on the patio with cool spring blues from The Silvertones, speckled with bits of jazz, swing, rockabilly, and good old fashioned rock n’ roll...',\n",
       "  'Main Page': 'https://allevents.in/fate/live-and-local-music-%7C-fate-tx-%7C-the-silvertones/200027890595915',\n",
       "  'Start Date': 'Mar 8',\n",
       "  'Title': 'Live & Local Music | Fate, TX | The Silvertones',\n",
       "  'When': 'Sat, Mar 8, 6 – 9 PM CST',\n",
       "  'image': 'https://encrypted-tbn0.gstatic.com/images?q=tbn:ANd9GcSLO5ZVJQi9BmAxYXUYGKKoU9ok7jEMQNJ0Zxxd3qSKhljMw18GVaG21eqfkA&s=10',\n",
       "  'thumb': 'https://encrypted-tbn0.gstatic.com/images?q=tbn:ANd9GcR6LZDQl7uM698OP2tBDWnRKfiZL4E9xvNlHwTI96cAi1FyrYd6K_mS-fk&s'},\n",
       " {'Address1': 'National Exhibition Centre, Pendigo Way',\n",
       "  'Address2': 'Birmingham, United Kingdom',\n",
       "  'Desc': '',\n",
       "  'Main Page': 'https://www.ginshi.co.uk/events-1/megacon-birmingham',\n",
       "  'Start Date': 'Mar 28',\n",
       "  'Title': 'Megacon Birmingham — ginshi',\n",
       "  'When': 'Fri, Mar 28, 8:00 AM – Sun, Mar 30, 7:30 PM GMT',\n",
       "  'image': 'https://encrypted-tbn0.gstatic.com/images?q=tbn:ANd9GcQuLR8OVIRJNiYWRMi-ap1mwgsMsAGddzz_TlpiA0w0Kg&s=10',\n",
       "  'thumb': 'https://encrypted-tbn0.gstatic.com/images?q=tbn:ANd9GcRa8MarjCN9nAErF3QnEXjOrEzIm7dZ4zlyuEXyaOKVoOWTWdQBFRt4kmQ&s'}]"
      ]
     },
     "execution_count": 90,
     "metadata": {},
     "output_type": "execute_result"
    }
   ],
   "source": [
    "url  = \"http://127.0.0.1:5002/user_recc\"\n",
    "data = {'USER': sample_user}\n",
    "items = []\n",
    "for _ in range(10):\n",
    "    recc = requests.post(url, json = data)\n",
    "    idx = int( json.loads(recc.content.decode())[0] ) \n",
    "    items.append(idx)\n",
    "\n",
    "events = []\n",
    "url  = \"http://127.0.0.1:5001/search_idx\"\n",
    "\n",
    "for idx in items:\n",
    "    data = {\"IDX\": idx}\n",
    "    item = requests.post(url,json=data)\n",
    "    item = json.loads(item.content.decode())\n",
    "    events.append(item)\n",
    "events"
   ]
  }
 ],
 "metadata": {
  "kernelspec": {
   "display_name": ".venv",
   "language": "python",
   "name": "python3"
  },
  "language_info": {
   "codemirror_mode": {
    "name": "ipython",
    "version": 3
   },
   "file_extension": ".py",
   "mimetype": "text/x-python",
   "name": "python",
   "nbconvert_exporter": "python",
   "pygments_lexer": "ipython3",
   "version": "3.11.5"
  }
 },
 "nbformat": 4,
 "nbformat_minor": 2
}
