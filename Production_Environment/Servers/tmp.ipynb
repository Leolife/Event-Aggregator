{
 "cells": [
  {
   "cell_type": "code",
   "execution_count": 36,
   "metadata": {},
   "outputs": [],
   "source": [
    "from flask       import Flask, request, jsonify\n",
    "from Levenshtein import ratio, jaro, distance\n",
    "from collections import Counter\n",
    "\n",
    "import pandas as pd\n",
    "import requests\n",
    "import subprocess\n",
    "import gzip\n",
    "import json\n",
    "import math\n",
    "import os\n",
    "import re\n",
    "\n",
    "def set_default_path(directory: str | None = 'Event-Aggregator') -> str:\n",
    "    \"\"\"Changes the working directory to \"\"\"\n",
    "    while not os.getcwd().endswith(directory):\n",
    "        os.chdir('..')\n",
    "        if len(os.getcwd()) == 0:\n",
    "            raise FileExistsError\n",
    "    return os.getcwd()\n",
    "\n",
    "default_path = os.path.join(set_default_path() ,'Production_Environment')\n",
    "server_path  = os.path.join(default_path,'Servers') \n",
    "collectors_path = os.path.join(server_path,'Collectors')\n",
    "events_path  = os.path.join(collectors_path,'Events')\n",
    "data_path    = os.path.join(events_path,'Data')\n",
    "File_path    = os.path.join(data_path, 'Final_Events.csv')"
   ]
  },
  {
   "cell_type": "code",
   "execution_count": null,
   "metadata": {},
   "outputs": [],
   "source": [
    "def query(url, data, mode):\n",
    "    match mode:\n",
    "        case 'POST':\n",
    "            item = requests.post(url,json=data)\n",
    "            item = json.loads(item.content.decode())\n",
    "        case 'GET':\n",
    "            item = requests.get(url)\n",
    "            item = json.loads(item.content.decode())\n",
    "    return item"
   ]
  },
  {
   "cell_type": "code",
   "execution_count": null,
   "metadata": {},
   "outputs": [],
   "source": [
    "WORD = re.compile(r\"\\w+\")\n",
    "\n",
    "def get_cosine(vec1, vec2):\n",
    "    intersection = set(vec1.keys()) & set(vec2.keys())\n",
    "    numerator = sum([vec1[x] * vec2[x] for x in intersection])\n",
    "\n",
    "    sum1 = sum([vec1[x] ** 2 for x in list(vec1.keys())])\n",
    "    sum2 = sum([vec2[x] ** 2 for x in list(vec2.keys())])\n",
    "    denominator = math.sqrt(sum1) * math.sqrt(sum2)\n",
    "\n",
    "    if not denominator:\n",
    "        return 0.0\n",
    "    else:\n",
    "        return float(numerator) / denominator\n",
    "\n",
    "def text_to_vector(text):\n",
    "    words = WORD.findall(text)\n",
    "    return Counter(words)"
   ]
  },
  {
   "cell_type": "code",
   "execution_count": 91,
   "metadata": {},
   "outputs": [],
   "source": [
    "df = pd.read_csv(File_path)"
   ]
  },
  {
   "cell_type": "code",
   "execution_count": 92,
   "metadata": {},
   "outputs": [],
   "source": [
    "# metric = df['Title']\\\n",
    "#         .apply(func = lambda s: s.replace(' ','')) \\\n",
    "#         .apply(func = lambda s: s.lower()) \\\n",
    "#         .sort_values(ascending=False)\\\n",
    "#         [:10].index"
   ]
  },
  {
   "cell_type": "code",
   "execution_count": 90,
   "metadata": {},
   "outputs": [
    {
     "data": {
      "text/plain": [
       "{'15': {'Address1': 'Paradise Valley Community Center, 17402 N 40th St',\n",
       "  'Address2': 'Phoenix, AZ',\n",
       "  'Desc': 'Join us every Wednesday from 5p - 7p and Saturdays 11a-2p for Esports Weekly Open Play! Compete against your friends or hone your skills to become the best player in Phoenix! Open Game Room...',\n",
       "  'Main Page': 'https://www.jackcentral.org/local-events/?_evDiscoveryPath=/event/37571249a-esports-weekly-open-play-pvcc',\n",
       "  'Start Date': 'Mar 2',\n",
       "  'Title': 'Esports - Weekly Open Play @ PVCC',\n",
       "  'When': 'Feb 26, 5 PM – Mar 26, 7 PM MST',\n",
       "  'image': 'https://encrypted-tbn0.gstatic.com/images?q=tbn:ANd9GcSl14ALJrp2Ho2cr3yiRdemxrv0zUJ4vRDmhZM-KguJnw&s=10',\n",
       "  'thumb': 'https://encrypted-tbn0.gstatic.com/images?q=tbn:ANd9GcRdu84pnoqrDA8eRYotRmVBtUt4KLrORUHWbm3AvkfGM_xprSrVPR_uvsY&s'},\n",
       " '16': {'Address1': 'Hartford Public Library, Albany Branch, 1250 Albany Ave',\n",
       "  'Address2': 'Hartford, CT',\n",
       "  'Desc': 'Experience the excitement of competitive gaming! Prepare to engage in competition, form teams, and experience the thrill on consoles or PC!',\n",
       "  'Main Page': 'https://www.wtnh.com/community-calendar/?_escaped_fragment_=/show/?start=2020-03-25#!/details/esports/15065089/2025-03-04T15',\n",
       "  'Start Date': 'Mar 4',\n",
       "  'Title': 'Esports',\n",
       "  'When': 'Tue, Mar 4, 3 – 5 PM',\n",
       "  'image': '',\n",
       "  'thumb': 'https://www.google.com/maps/vt/data=U4tNCurYtkw5-zbFg-1_3Mvdf46RLFV97Sn2dpX4BbSh5zukOQFDWsGtRL2RN9GaGQ_lhJ1cS3dcboGPp0zUpSkNR9xY78QWQ5SigbUv7eaVi4ti7n0'},\n",
       " '171': {'Address1': 'Rockingham Speedway, 2152 N US Hwy 1',\n",
       "  'Address2': 'Rockingham, NC',\n",
       "  'Desc': \"SPRING MATSURI 2025 is a 2 DAY DRIFT Festival at ROCKINGHAM SPEEDWAY!!! It's our 5th year at the Rock & our 20th year running events. Come party with us to celebrate! Live music, drift games, car...\",\n",
       "  'Main Page': 'http://www.yourdailyjournal.com/calendar#!/details/spring-matsuri-v/15095704/2025-03-08T08',\n",
       "  'Start Date': 'Mar 8',\n",
       "  'Title': 'Spring Matsuri V',\n",
       "  'When': 'Sat, Mar 8, 8:30 AM – 5:00 PM',\n",
       "  'image': 'https://encrypted-tbn0.gstatic.com/images?q=tbn:ANd9GcTPQ5DLMC1ShIUPvaFQH8zdlfB7tJgKTzA7L4WWQ-utNg&s=10',\n",
       "  'thumb': 'https://encrypted-tbn0.gstatic.com/images?q=tbn:ANd9GcQL0awRvELYH4xL6Z4YuyTm8EGUXJzTWzzWZ8mRqbSA-LJd-GdI1QuFSpo&s'},\n",
       " '175': {'Address1': 'Rockingham Speedway & Entertainment Campgrounds, 2152 US-1',\n",
       "  'Address2': 'Rockingham, NC',\n",
       "  'Desc': \"SPRING MATSURI 2025 is a 2 DAY DRIFT Festival at ROCKINGHAM SPEEDWAY!!! It's our 5th year at the Rock & our 20th year running events. Come party with us to celebrate! Live music, drift games, car...\",\n",
       "  'Main Page': 'https://allevents.in/marston/spring-matsuri-v/200027843122148',\n",
       "  'Start Date': 'Mar 8',\n",
       "  'Title': 'Spring Matsuri V',\n",
       "  'When': 'Sat, Mar 8, 8:30 AM – Sun, Mar 9, 5:00 PM',\n",
       "  'image': '',\n",
       "  'thumb': 'https://www.google.com/maps/vt/data=Uop1rl7kWTUAA8tJ0DWUpzN2qyQDxvz5NPJST1gjSdYdcJrSHIi4FMLni_qNwkxT0ENnZnCv4ihuv331fUJNICNoeN9gClaWF9YJE2qZmHrZD-qt6sw'},\n",
       " '18': {'Address1': '',\n",
       "  'Address2': '',\n",
       "  'Desc': 'The new Esports Lounge of palm Harbor is finally here! Palm Harbor Parks and Recreation unveiled its exciting new Esports Lounge to the public on June 18th. Excited gamers community leaders and...',\n",
       "  'Main Page': 'https://allevents.in/palm%20harbor/esports-lounge-gaming-experience/80002614770415?slot=2025-03-06',\n",
       "  'Start Date': 'Mar 6',\n",
       "  'Title': 'Esports Lounge Gaming Experience',\n",
       "  'When': 'Thu, Mar 6, 10 PM – Fri, Mar 7, 1 AM',\n",
       "  'image': 'https://encrypted-tbn0.gstatic.com/images?q=tbn:ANd9GcQ33WtibUT9mLgzzLIBqdswFaQPrcUW3AhzVMSkfBSOvUbvDNTRHrFmv8Trsg&s=10',\n",
       "  'thumb': 'https://encrypted-tbn0.gstatic.com/images?q=tbn:ANd9GcTgR8jPQZRns0wbjSopqw_lZUNIkUhr5yNp-grCInIaMNwDJLSbyVYHrms&s'}}"
      ]
     },
     "execution_count": 90,
     "metadata": {},
     "output_type": "execute_result"
    }
   ],
   "source": [
    "# Makes requests to the front server\n",
    "url  = \"http://127.0.0.1:5000/search\"\n",
    "data = {\"QUERY\"  : 'Esports',\n",
    "        \"BY\"     : \"Title\",\n",
    "        \"NUMBER\" : 5\n",
    "        }\n",
    "\n",
    "item = query(url,data, mode='POST')\n",
    "item"
   ]
  }
 ],
 "metadata": {
  "kernelspec": {
   "display_name": ".venv",
   "language": "python",
   "name": "python3"
  },
  "language_info": {
   "codemirror_mode": {
    "name": "ipython",
    "version": 3
   },
   "file_extension": ".py",
   "mimetype": "text/x-python",
   "name": "python",
   "nbconvert_exporter": "python",
   "pygments_lexer": "ipython3",
   "version": "3.11.5"
  }
 },
 "nbformat": 4,
 "nbformat_minor": 2
}
