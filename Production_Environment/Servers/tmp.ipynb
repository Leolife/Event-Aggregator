{
 "cells": [
  {
   "cell_type": "code",
   "execution_count": 1,
   "metadata": {},
   "outputs": [],
   "source": [
    "# results  = []\n",
    "# for idx in range(n_rows):\n",
    "#     row = df.iloc[idx].fillna('')\n",
    "#     item = {\n",
    "#         'TITLE': row['Title'],\n",
    "#         'DATE' : row['Start Date'],\n",
    "#         'MAINPAGE' : row['Main Page'],\n",
    "#         'ADDRESS1' : row['Address1'],\n",
    "#         'ADDRESS2' : row['Address2'],\n",
    "#         'WEHN' : row['When'],\n",
    "#         'THUMB': row['thumb'],\n",
    "#         'IMAGE' : row['image'],\n",
    "#         'DESC' : row['Desc'],\n",
    "#         'LongDesc': ''\n",
    "#     }\n",
    "#     results.append(item)\n"
   ]
  },
  {
   "cell_type": "code",
   "execution_count": 1,
   "metadata": {},
   "outputs": [],
   "source": [
    "#from Levenshtein import ratio, jaro, distance\n",
    "from collections import Counter\n",
    "\n",
    "import pandas as pd\n",
    "#import numpy  as np\n",
    "\n",
    "import subprocess\n",
    "import requests\n",
    "import random\n",
    "# import gzip\n",
    "import json\n",
    "import math\n",
    "import os\n",
    "import re\n",
    "\n",
    "def set_default_path(directory: str | None = 'Event-Aggregator') -> str:\n",
    "    \"\"\"Changes the working directory to \"\"\"\n",
    "    while not os.getcwd().endswith(directory):\n",
    "        os.chdir('..')\n",
    "        if len(os.getcwd()) == 0:\n",
    "            raise FileExistsError\n",
    "    return os.getcwd()\n",
    "\n",
    "def query(url, data, mode):\n",
    "    match mode:\n",
    "        case 'POST':\n",
    "            item = requests.post(url,json=data)\n",
    "            item = json.loads(item.content.decode())\n",
    "        case 'GET':\n",
    "            item = requests.get(url)\n",
    "            item = json.loads(item.content.decode())\n",
    "    return item\n",
    "\n",
    "default_path    = os.path.join(set_default_path() ,'Production_Environment')\n",
    "server_path     = os.path.join(default_path       ,'Servers') \n",
    "collectors_path = os.path.join(server_path        ,'Collectors')\n",
    "\n",
    "# Events\n",
    "events_path     = os.path.join(collectors_path    ,'Events')\n",
    "data_path       = os.path.join(events_path        ,'Data')\n",
    "File_path       = os.path.join(data_path          ,'Final_Events.csv')\n",
    "\n",
    "# User Base\n",
    "UserBase_path  = os.path.join(collectors_path ,'UserBase')\n",
    "user_data_path = os.path.join(UserBase_path   ,'Data')\n",
    "user_data_file = os.path.join(user_data_path  ,'User_data.json')"
   ]
  },
  {
   "cell_type": "markdown",
   "metadata": {},
   "source": [
    "---"
   ]
  },
  {
   "cell_type": "code",
   "execution_count": 7,
   "metadata": {},
   "outputs": [
    {
     "data": {
      "text/plain": [
       "[0]"
      ]
     },
     "execution_count": 7,
     "metadata": {},
     "output_type": "execute_result"
    }
   ],
   "source": [
    "[_ for _ in range(10)][:1]"
   ]
  },
  {
   "cell_type": "code",
   "execution_count": null,
   "metadata": {},
   "outputs": [
    {
     "data": {
      "text/plain": [
       "[[100,\n",
       "  'Bollywood Y2K FREE Party : Featuring The World Famous DJ DHARAK',\n",
       "  'Mar 15',\n",
       "  'https://pix11.com/calendar/?_escaped_fragment_=/show/?start=2021-03-10#!/details/holi-after-dark-bollywood-neon-glow-party-featuring-india-s-1-dj-dharak/14948564/2025-03-15T21',\n",
       "  'HK Hall, 605 W 48th St',\n",
       "  'New York, NY',\n",
       "  'Sat, Mar 15, 9 PM – Sun, Mar 16, 3 AM',\n",
       "  'https://encrypted-tbn0.gstatic.com/images?q=tbn:ANd9GcQjVo8ROaSB_G4FpX6E9WVVE9C9DsOK7UdRAN9qCXd-3xHvl61OqQNznLc&s',\n",
       "  'https://encrypted-tbn0.gstatic.com/images?q=tbn:ANd9GcQPk4VR0rWG1xVv5xP7onZO5DGF99nZBG4xvBGMcG-n_en_TbfAEX0TaQV6Ag&s=10',\n",
       "  'Get ready to Glow in the Dark at our Holi After Dark Party - its gonna be lit with Neon Lights and Bollywood Beats by World Famous DJ DHARAK',\n",
       "  ''],\n",
       " [101,\n",
       "  'Retro Arcade Class w/ NY Society of Play',\n",
       "  'Mar 11',\n",
       "  'https://www.hisawyer.com/marketplace/activity-set/1171248',\n",
       "  'Public School 9 The Sarah Smith Garnet School, 80 Underhill Ave',\n",
       "  'Brooklyn, NY',\n",
       "  'Tue, Mar 11, 3 – 4 PM',\n",
       "  'https://www.google.com/maps/vt/data=C547Yo5kAosFp1HHvZAb6DcwpDEdL3jOZ2sdhCNsvuoOQ6T59DFxp_ARw0ty9xrlVERKzMKOooO-k1GULdy594STqij0Fw0PGBxyYlIPbPXjAE9Eusw',\n",
       "  '',\n",
       "  'PS9 After School Enrichment is run by the PS9 PTO and their partners at TEiAM. We have a fall, winter and spring 8-week session each school year for a range of classes exclusively for PS9...',\n",
       "  ''],\n",
       " [102,\n",
       "  'Mid-Atlantic Retro Computing Hobbyists Hack-a-Thon',\n",
       "  'Mar 8',\n",
       "  'https://allevents.in/neptune/mid-atlantic-retro-computing-hobbyists-hack-a-thon/200027861645039',\n",
       "  'InfoAge Science and History Museums, 2201 Marconi Rd',\n",
       "  'Wall Township, NJ',\n",
       "  'Sat, Mar 8, 10 AM – Sun, Mar 9, 5 PM',\n",
       "  'https://encrypted-tbn0.gstatic.com/images?q=tbn:ANd9GcRiHfribg2x2uT4ldpxGxRuQe0HfdSd56FOJ6VYrXE&s',\n",
       "  'https://encrypted-tbn0.gstatic.com/images?q=tbn:ANd9GcSAiDXjc167nfwVqhH3PM4VNIH_MWqB25kPoUdNLK6dfg&s=10',\n",
       "  'Hack-a-Thon for retro computing enthusiasts. More info here: https://vcfed.org/2025/02/13/march-hack-a-thon/',\n",
       "  '']]"
      ]
     },
     "execution_count": 38,
     "metadata": {},
     "output_type": "execute_result"
    }
   ],
   "source": [
    "url  = \"http://127.0.0.1:5000/get/offset\"\n",
    "\n",
    "data = {\n",
    "    \"START\"  : \"100\",\n",
    "    \"OFFSET\" : 3 \n",
    "}\n",
    "items = query(url = url,data = data, mode = 'POST')\n",
    "items"
   ]
  },
  {
   "cell_type": "code",
   "execution_count": null,
   "metadata": {},
   "outputs": [],
   "source": [
    "s = \"fdsonfonasi\"\n",
    "s.isdigit()"
   ]
  },
  {
   "cell_type": "code",
   "execution_count": null,
   "metadata": {},
   "outputs": [],
   "source": [
    "url  = \"http://127.0.0.1:5000/get_rows\"\n",
    "data = {\n",
    "    'IDS': event_ids\n",
    "}\n",
    "event_info = query(url = url,data = data, mode = 'POST')\n",
    "event_info"
   ]
  },
  {
   "cell_type": "code",
   "execution_count": null,
   "metadata": {},
   "outputs": [],
   "source": [
    "sample_user = list(data.keys())[0]\n",
    "sample_user"
   ]
  },
  {
   "cell_type": "code",
   "execution_count": null,
   "metadata": {},
   "outputs": [],
   "source": [
    "url  = \"http://127.0.0.1:5000/recc\"\n",
    "data = {\n",
    "    'USER_ID': sample_user,\n",
    "    'NUMBER': 10,\n",
    "    'MODE' : 'item'\n",
    "}\n",
    "data = query(url = url,data = data, mode = 'POST')\n",
    "data"
   ]
  },
  {
   "cell_type": "markdown",
   "metadata": {},
   "source": [
    "---"
   ]
  },
  {
   "cell_type": "code",
   "execution_count": null,
   "metadata": {},
   "outputs": [],
   "source": [
    "import scipy.sparse as sp\n",
    "import numpy as np"
   ]
  },
  {
   "cell_type": "code",
   "execution_count": null,
   "metadata": {},
   "outputs": [],
   "source": [
    "n_users = len(data.keys())\n",
    "n_users"
   ]
  },
  {
   "cell_type": "code",
   "execution_count": null,
   "metadata": {},
   "outputs": [],
   "source": [
    "n_events = 489"
   ]
  },
  {
   "cell_type": "code",
   "execution_count": null,
   "metadata": {},
   "outputs": [],
   "source": [
    "mat = sp.dok_matrix((n_users,n_events), dtype=np.int64)\n",
    "for idx, (user_id, user_data) in enumerate(data.items()):\n",
    "    u_interact = user_data['CLICKED']\n",
    "    for event_id, freq in u_interact.items():\n",
    "        event_id = int(event_id)\n",
    "        # Add our user and interactions to our mat\n",
    "        mat[idx,event_id] = freq"
   ]
  },
  {
   "cell_type": "code",
   "execution_count": null,
   "metadata": {},
   "outputs": [],
   "source": [
    "\n",
    "from sklearn.metrics                 import silhouette_score\n",
    "from sklearn.cluster                 import KMeans"
   ]
  },
  {
   "cell_type": "code",
   "execution_count": null,
   "metadata": {},
   "outputs": [],
   "source": [
    "X = mat.tocsr()"
   ]
  },
  {
   "cell_type": "code",
   "execution_count": null,
   "metadata": {},
   "outputs": [],
   "source": [
    "def user_kmeans(X, n_clusters_max = 15,trials = 5) -> list[float]:\n",
    "    results = []\n",
    "    for n_clusters in range(2,n_clusters_max):\n",
    "        c_score = 0\n",
    "        for seed in range(trials):\n",
    "            kmeans = KMeans(\n",
    "                max_iter     = 100,\n",
    "                n_clusters   = n_clusters,\n",
    "                n_init       = 10,\n",
    "                random_state = seed,\n",
    "            ).fit(X)\n",
    "            c_score += silhouette_score(X,kmeans.labels_)\n",
    "\n",
    "        c_score /= trials\n",
    "        results.append(float(c_score))\n",
    "        # cluster_ids, cluster_sizes = np.unique(kmeans.labels_, return_counts=True)\n",
    "        # print(f\"Number of elements assigned to each cluster: {cluster_sizes}\")\n",
    "    return results"
   ]
  },
  {
   "cell_type": "code",
   "execution_count": null,
   "metadata": {},
   "outputs": [],
   "source": [
    "results = user_kmeans(X)"
   ]
  },
  {
   "cell_type": "code",
   "execution_count": null,
   "metadata": {},
   "outputs": [],
   "source": [
    "n_clusters = np.argmin(results) + 2\n",
    "kmeans     = KMeans(\n",
    "                max_iter     = 100,\n",
    "                n_clusters   = n_clusters,\n",
    "                n_init       = 20,\n",
    "                random_state = 42,\n",
    "            ).fit(X)"
   ]
  },
  {
   "cell_type": "code",
   "execution_count": null,
   "metadata": {},
   "outputs": [],
   "source": [
    "entry = sp.dok_matrix((1,489), dtype=np.int8)"
   ]
  },
  {
   "cell_type": "code",
   "execution_count": null,
   "metadata": {},
   "outputs": [],
   "source": [
    "label = kmeans.predict(entry).item()"
   ]
  },
  {
   "cell_type": "code",
   "execution_count": null,
   "metadata": {},
   "outputs": [],
   "source": [
    "# entry.toarray()[0][0]"
   ]
  }
 ],
 "metadata": {
  "kernelspec": {
   "display_name": "Python 3",
   "language": "python",
   "name": "python3"
  },
  "language_info": {
   "codemirror_mode": {
    "name": "ipython",
    "version": 3
   },
   "file_extension": ".py",
   "mimetype": "text/x-python",
   "name": "python",
   "nbconvert_exporter": "python",
   "pygments_lexer": "ipython3",
   "version": "3.12.3"
  }
 },
 "nbformat": 4,
 "nbformat_minor": 2
}
