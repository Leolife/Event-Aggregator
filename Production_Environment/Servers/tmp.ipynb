{
 "cells": [
  {
   "cell_type": "code",
   "execution_count": 32,
   "metadata": {},
   "outputs": [],
   "source": [
    "from   Levenshtein import ratio\n",
    "\n",
    "import subprocess, signal\n",
    "import pandas      as pd\n",
    "import requests\n",
    "import random\n",
    "import json\n",
    "import json\n",
    "import os\n",
    "\n",
    "def set_default_path(directory: str | None = 'Event-Aggregator') -> str:\n",
    "    \"\"\"Changes the working directory to \"\"\"\n",
    "    while not os.getcwd().endswith(directory):\n",
    "        os.chdir('..')\n",
    "        if len(os.getcwd()) == 0:\n",
    "            raise FileExistsError\n",
    "    return os.getcwd()\n",
    "\n",
    "default_path = os.path.join(set_default_path() ,'Production_Environment')\n",
    "data_path    = os.path.join(default_path  ,'Data')\n",
    "events_path  = os.path.join(data_path     ,'Final_Events.csv')"
   ]
  },
  {
   "cell_type": "code",
   "execution_count": 41,
   "metadata": {},
   "outputs": [],
   "source": [
    "def query(url, data, mode):\n",
    "    match mode:\n",
    "        case 'POST':\n",
    "            item = requests.post(url,json=data)\n",
    "            item = json.loads(item.content.decode())\n",
    "        case 'GET':\n",
    "            item = requests.get(url)\n",
    "            item = json.loads(item.content.decode())\n",
    "    return item"
   ]
  },
  {
   "cell_type": "code",
   "execution_count": null,
   "metadata": {},
   "outputs": [
    {
     "data": {
      "text/plain": [
       "'abcdefghijklmnopqrstuvwxyz'"
      ]
     },
     "execution_count": 56,
     "metadata": {},
     "output_type": "execute_result"
    }
   ],
   "source": []
  },
  {
   "cell_type": "code",
   "execution_count": 54,
   "metadata": {},
   "outputs": [
    {
     "data": {
      "text/plain": [
       "{'12400': {'about_the_game': 'Under Leaves is a color-filled hidden object game from the world of animals. Gorgeous hand-drawn watercolor illustrations and a soothing soundscape make for a gently exotic experience. <br><br><ul class=\"bb_ul\"><li>gorgeous hand-drawn watercolor visual<br></li><li>relaxing gameplay and audio<br></li><li>9 different locations over the world<br></li><li>29 animated animals to discover<br></li><li>accessible to everyone, there is no text! (just numbers)</li></ul>',\n",
       "  'appid': 567030,\n",
       "  'average_playtime': 0,\n",
       "  'categories': 'Single-player;Steam Achievements;Steam Trading Cards',\n",
       "  'detailed_description': 'Under Leaves is a color-filled hidden object game from the world of animals. Gorgeous hand-drawn watercolor illustrations and a soothing soundscape make for a gently exotic experience. <br><br><ul class=\"bb_ul\"><li>gorgeous hand-drawn watercolor visual<br></li><li>relaxing gameplay and audio<br></li><li>9 different locations over the world<br></li><li>29 animated animals to discover<br></li><li>accessible to everyone, there is no text! (just numbers)</li></ul>',\n",
       "  'developer': 'Circus Atos',\n",
       "  'genres': 'Casual;Indie',\n",
       "  'name': 'Under Leaves',\n",
       "  'negative_ratings': 6,\n",
       "  'positive_ratings': 237,\n",
       "  'price': 3.99,\n",
       "  'publisher': 'Circus Atos',\n",
       "  'release_date': '2017-04-27',\n",
       "  'required_age': 0,\n",
       "  'short_description': 'Journey into the forest, the jungle or the depths of the deep blue sea. Find chestnuts for the pigs, a caterpillar for the crocodile or a starfish one, two three. A color-filled hidden object game from the world of animals.',\n",
       "  'steamspy_tags': 'Hidden Object;Cute;Casual'},\n",
       " '15072': {'about_the_game': '<h2 class=\"bb_tag\">In Undertaker\\'s you manage your very own funeral home. While others grieve, you count your profits.</h2><h2 class=\"bb_tag\">Sign Contracts to Earn Your First Money.</h2>Invest in new buildings to maximize your earnings. Start as a small businessman and become the biggest undertaker in town. Satisfy your customers to raise your reputation.<br>Had a bad day? Tomorrow will be better! Or not..<br><br>Inspired by the economy simulation games of the mid 90s.<br><br><img src=\"https://steamcdn-a.akamaihd.net/steam/apps/653050/extras/description_Image_Features.png?t=1524744313\" ><br><ul class=\"bb_ul\"><li>Buy and sell items<br></li><li>Use special offers to maximize profits<br></li><li>Negotiate contracts to squeeze as much money out of your clients as possible<br></li><li>The demands of your client exceed your possibilities? Throw them out!<br></li><li>Build buildings<br></li><li>Let your workers produce items in your workshops<br></li><li>Take loans to make your next big investment<br></li><li>Hand drawn graphics</li></ul>',\n",
       "  'appid': 653050,\n",
       "  'average_playtime': 0,\n",
       "  'categories': 'Single-player;Steam Achievements;Steam Cloud',\n",
       "  'detailed_description': '<h2 class=\"bb_tag\">In Undertaker\\'s you manage your very own funeral home. While others grieve, you count your profits.</h2><h2 class=\"bb_tag\">Sign Contracts to Earn Your First Money.</h2>Invest in new buildings to maximize your earnings. Start as a small businessman and become the biggest undertaker in town. Satisfy your customers to raise your reputation.<br>Had a bad day? Tomorrow will be better! Or not..<br><br>Inspired by the economy simulation games of the mid 90s.<br><br><img src=\"https://steamcdn-a.akamaihd.net/steam/apps/653050/extras/description_Image_Features.png?t=1524744313\" ><br><ul class=\"bb_ul\"><li>Buy and sell items<br></li><li>Use special offers to maximize profits<br></li><li>Negotiate contracts to squeeze as much money out of your clients as possible<br></li><li>The demands of your client exceed your possibilities? Throw them out!<br></li><li>Build buildings<br></li><li>Let your workers produce items in your workshops<br></li><li>Take loans to make your next big investment<br></li><li>Hand drawn graphics</li></ul>',\n",
       "  'developer': 'Hyeson',\n",
       "  'genres': 'Indie;Simulation;Strategy',\n",
       "  'name': \"Undertaker's\",\n",
       "  'negative_ratings': 8,\n",
       "  'positive_ratings': 8,\n",
       "  'price': 3.99,\n",
       "  'publisher': 'Hyeson',\n",
       "  'release_date': '2017-08-02',\n",
       "  'required_age': 0,\n",
       "  'short_description': \"Inspired by the economy simulation games oft the mid 90s, Undertaker's let's you manage your very own funeral home.\",\n",
       "  'steamspy_tags': 'Simulation;Strategy;Indie'},\n",
       " '1950': {'about_the_game': 'Underrail is an old school turn-based isometric indie role playing game that focuses on exploration and combat.<br />\\r\\n<br />\\r\\nThe game is set in a distant future, when the life on the Earth’s surface has long since been made impossible and the remnants of humanity now dwell in the Underrail, a vast system of metro station-states that, it seems, are the last bastions of a fading race.<br />\\r\\n<br />\\r\\nThe player takes control of one of the denizens of such a station-state whose life is about to become all that much more interesting and dangerous, as our protagonist is caught midst the conflicting factions of the Underrail as the violently struggle to survive in the harsh underground environment.',\n",
       "  'appid': 250520,\n",
       "  'average_playtime': 29,\n",
       "  'categories': 'Single-player;Steam Achievements',\n",
       "  'detailed_description': 'Underrail is an old school turn-based isometric indie role playing game that focuses on exploration and combat.<br />\\r\\n<br />\\r\\nThe game is set in a distant future, when the life on the Earth’s surface has long since been made impossible and the remnants of humanity now dwell in the Underrail, a vast system of metro station-states that, it seems, are the last bastions of a fading race.<br />\\r\\n<br />\\r\\nThe player takes control of one of the denizens of such a station-state whose life is about to become all that much more interesting and dangerous, as our protagonist is caught midst the conflicting factions of the Underrail as the violently struggle to survive in the harsh underground environment.',\n",
       "  'developer': 'Stygian Software',\n",
       "  'genres': 'Indie;RPG',\n",
       "  'name': 'UnderRail',\n",
       "  'negative_ratings': 252,\n",
       "  'positive_ratings': 1485,\n",
       "  'price': 9.99,\n",
       "  'publisher': 'Stygian Software',\n",
       "  'release_date': '2015-12-18',\n",
       "  'required_age': 0,\n",
       "  'short_description': 'Underrail is an old school turn-based isometric indie role playing game that focuses on exploration and combat. The game is set in a distant future, when the life on the Earth’s surface has long since been made impossible and the remnants of humanity now dwell in the Underrail, a vast system of metro station-states that, it seems, are...',\n",
       "  'steamspy_tags': 'RPG;Post-apocalyptic;Isometric'},\n",
       " '6433': {'about_the_game': 'Welcome to UNDERTALE. In this RPG, you control a human who falls underground into the world of monsters. Now you must find your way out... or stay trapped forever. <br><br><i>((Healthy Dog\\'s Warning: Game contains imagery that may be harmful to players with photosensitive epilepsy or similar condition.))</i><h2 class=\"bb_tag\">features:</h2><br><ul class=\"bb_ul\"><li> Killing is unnecessary: negotiate out of danger using the unique battle system.<br></li><li> Time your attacks for extra damage, then dodge enemy attacks in a style reminiscent of top-down shooters.<br></li><li> Original art and soundtrack brimming with personality.<br></li><li> Soulful, character-rich story with an emphasis on humor.<br></li><li> Created mostly by one person. <br></li><li> Become friends with all of the bosses!<br></li><li> At least 5 dogs.<br></li><li> You can date a skeleton.<br></li><li> Hmmm... now there are 6 dogs...?<br></li><li> Maybe you won\\'t want to date the skeleton.<br></li><li> I thought I found a 7th dog, but it was actually just the 3rd dog.<br></li><li> If you play this game, can you count the dogs for me...? I\\'m not good at it.</li></ul>',\n",
       "  'appid': 391540,\n",
       "  'average_playtime': 679,\n",
       "  'categories': 'Single-player;Steam Trading Cards',\n",
       "  'detailed_description': 'Welcome to UNDERTALE. In this RPG, you control a human who falls underground into the world of monsters. Now you must find your way out... or stay trapped forever. <br><br><i>((Healthy Dog\\'s Warning: Game contains imagery that may be harmful to players with photosensitive epilepsy or similar condition.))</i><h2 class=\"bb_tag\">features:</h2><br><ul class=\"bb_ul\"><li> Killing is unnecessary: negotiate out of danger using the unique battle system.<br></li><li> Time your attacks for extra damage, then dodge enemy attacks in a style reminiscent of top-down shooters.<br></li><li> Original art and soundtrack brimming with personality.<br></li><li> Soulful, character-rich story with an emphasis on humor.<br></li><li> Created mostly by one person. <br></li><li> Become friends with all of the bosses!<br></li><li> At least 5 dogs.<br></li><li> You can date a skeleton.<br></li><li> Hmmm... now there are 6 dogs...?<br></li><li> Maybe you won\\'t want to date the skeleton.<br></li><li> I thought I found a 7th dog, but it was actually just the 3rd dog.<br></li><li> If you play this game, can you count the dogs for me...? I\\'m not good at it.</li></ul>',\n",
       "  'developer': 'tobyfox',\n",
       "  'genres': 'Indie;RPG',\n",
       "  'name': 'Undertale',\n",
       "  'negative_ratings': 4496,\n",
       "  'positive_ratings': 97832,\n",
       "  'price': 6.99,\n",
       "  'publisher': 'tobyfox',\n",
       "  'release_date': '2015-09-15',\n",
       "  'required_age': 0,\n",
       "  'short_description': \"UNDERTALE! The RPG game where you don't have to destroy anyone.\",\n",
       "  'steamspy_tags': 'Great Soundtrack;Story Rich;Choices Matter'}}"
      ]
     },
     "execution_count": 54,
     "metadata": {},
     "output_type": "execute_result"
    }
   ],
   "source": [
    "url  = \"http://127.0.0.1:5000/search\"\n",
    "data = {\"VALUE\"  : 'Undertale',\n",
    "        \"BY\"     : \"name\",\n",
    "        \"NUMBER\" : 4\n",
    "        }\n",
    "\n",
    "item = query(url,data, mode='POST')\n",
    "item"
   ]
  }
 ],
 "metadata": {
  "kernelspec": {
   "display_name": ".venv",
   "language": "python",
   "name": "python3"
  },
  "language_info": {
   "codemirror_mode": {
    "name": "ipython",
    "version": 3
   },
   "file_extension": ".py",
   "mimetype": "text/x-python",
   "name": "python",
   "nbconvert_exporter": "python",
   "pygments_lexer": "ipython3",
   "version": "3.11.5"
  }
 },
 "nbformat": 4,
 "nbformat_minor": 2
}
