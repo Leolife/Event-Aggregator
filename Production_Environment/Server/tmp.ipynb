{
 "cells": [
  {
   "cell_type": "code",
   "execution_count": 18,
   "metadata": {},
   "outputs": [],
   "source": [
    "import sys\n",
    "import os\n",
    "\n",
    "def set_default_path(directory: str | None = 'Event-Aggregator') -> str:\n",
    "    \"\"\"Changes the working directory to \"\"\"\n",
    "    while not os.getcwd().endswith(directory):\n",
    "        os.chdir('..')\n",
    "        if len(os.getcwd()) == 0:\n",
    "            raise FileExistsError\n",
    "    return os.getcwd()"
   ]
  },
  {
   "cell_type": "code",
   "execution_count": 19,
   "metadata": {},
   "outputs": [],
   "source": [
    "from File_Paths import set_default_path"
   ]
  },
  {
   "cell_type": "code",
   "execution_count": 20,
   "metadata": {},
   "outputs": [],
   "source": [
    "# os.environ"
   ]
  },
  {
   "cell_type": "code",
   "execution_count": 21,
   "metadata": {},
   "outputs": [],
   "source": [
    "default_path = set_default_path()"
   ]
  },
  {
   "cell_type": "code",
   "execution_count": 22,
   "metadata": {},
   "outputs": [],
   "source": [
    "import pandas as pd\n",
    "import os"
   ]
  },
  {
   "cell_type": "code",
   "execution_count": 23,
   "metadata": {},
   "outputs": [],
   "source": [
    "default_path = set_default_path()\n",
    "default_path = os.path.join(default_path,'Production_Environment')\n",
    "\n",
    "data_path   = os.path.join(default_path,'Data')\n",
    "events_path = os.path.join(data_path,'Final_Events.csv')"
   ]
  },
  {
   "cell_type": "code",
   "execution_count": 24,
   "metadata": {},
   "outputs": [],
   "source": [
    "events = pd.read_csv(events_path)\n",
    "#events.drop(columns=['label'],inplace=True)\n",
    "#events.head()"
   ]
  },
  {
   "cell_type": "code",
   "execution_count": 26,
   "metadata": {},
   "outputs": [
    {
     "data": {
      "text/plain": [
       "['Title',\n",
       " 'Desc',\n",
       " 'Start Date',\n",
       " 'When',\n",
       " 'Main Page',\n",
       " 'Address1',\n",
       " 'Address2',\n",
       " 'thumb',\n",
       " 'image']"
      ]
     },
     "execution_count": 26,
     "metadata": {},
     "output_type": "execute_result"
    }
   ],
   "source": [
    "list(events.columns)"
   ]
  }
 ],
 "metadata": {
  "kernelspec": {
   "display_name": ".venv",
   "language": "python",
   "name": "python3"
  },
  "language_info": {
   "codemirror_mode": {
    "name": "ipython",
    "version": 3
   },
   "file_extension": ".py",
   "mimetype": "text/x-python",
   "name": "python",
   "nbconvert_exporter": "python",
   "pygments_lexer": "ipython3",
   "version": "3.11.5"
  }
 },
 "nbformat": 4,
 "nbformat_minor": 2
}
