{
 "cells": [
  {
   "cell_type": "code",
   "execution_count": 86,
   "metadata": {},
   "outputs": [],
   "source": [
    "from   Levenshtein import ratio\n",
    "import pandas      as pd\n",
    "import requests\n",
    "import random\n",
    "import json\n",
    "import json\n",
    "import os\n",
    "\n",
    "def set_default_path(directory: str | None = 'Event-Aggregator') -> str:\n",
    "    \"\"\"Changes the working directory to \"\"\"\n",
    "    while not os.getcwd().endswith(directory):\n",
    "        os.chdir('..')\n",
    "        if len(os.getcwd()) == 0:\n",
    "            raise FileExistsError\n",
    "    return os.getcwd()\n",
    "\n",
    "default_path = os.path.join(set_default_path() ,'Production_Environment')\n",
    "data_path    = os.path.join(default_path  ,'Data')\n",
    "events_path  = os.path.join(data_path     ,'Final_Events.csv')"
   ]
  },
  {
   "cell_type": "code",
   "execution_count": 87,
   "metadata": {},
   "outputs": [
    {
     "data": {
      "text/plain": [
       "{'Address1': 'Cherry Valley Public Library District, 755 E State St',\n",
       " 'Address2': 'Cherry Valley, IL',\n",
       " 'Desc': 'Come and discuss new and old favorite manga, participate in themed activities, try Asian snacks, and watch anime in a monthly group dedicated to all things manga! Ages 12-17 . Registration is...',\n",
       " 'Main Page': 'https://cherryvalleylib.librarymarket.com/event/anime-manga-madness-65115',\n",
       " 'Start Date': 'Mar 3',\n",
       " 'Title': 'Anime & Manga Madness',\n",
       " 'When': 'Mon, Mar 3, 6 – 7 PM',\n",
       " 'image': 'https://encrypted-tbn0.gstatic.com/images?q=tbn:ANd9GcR0WJWHobjW_nPhH4fgMNHz6mAx04Zlh_XA3BNBHknXow&s=10',\n",
       " 'thumb': 'https://encrypted-tbn0.gstatic.com/images?q=tbn:ANd9GcQi0YMAcvBE7c9dIgurLKgFXPKL6X2ueQ2MNcqj4Hs&s'}"
      ]
     },
     "execution_count": 87,
     "metadata": {},
     "output_type": "execute_result"
    }
   ],
   "source": [
    "url  = \"http://127.0.0.1:5001/search_idx\"\n",
    "data = {\"IDX\": 20}\n",
    "item = requests.post(url,json=data)\n",
    "item = json.loads(item.content.decode())\n",
    "item\n",
    "#sample_user = random.choice([u for u in item.keys()])\n",
    "#sample_user"
   ]
  },
  {
   "cell_type": "code",
   "execution_count": 88,
   "metadata": {},
   "outputs": [
    {
     "data": {
      "text/plain": [
       "'jennifer10'"
      ]
     },
     "execution_count": 88,
     "metadata": {},
     "output_type": "execute_result"
    }
   ],
   "source": [
    "url  = \"http://127.0.0.1:5000/random_sample\"\n",
    "data = {'NUMBER': 1}\n",
    "item = requests.post(url, json = data)\n",
    "item = json.loads(item.content.decode())\n",
    "#sample_user = random.choice([u for u in item.keys()])\n",
    "sample_user = list(item.keys())[0]\n",
    "sample_user"
   ]
  },
  {
   "cell_type": "code",
   "execution_count": null,
   "metadata": {},
   "outputs": [
    {
     "data": {
      "text/plain": [
       "[{'Address1': 'CAJUNDOME & Convention Center, 444 Cajundome Blvd',\n",
       "  'Address2': 'Lafayette, LA',\n",
       "  'Desc': 'Louisiana Comic Con is a two-day popular culture event dedicated to sci-fi, fantasy, anime, comics, video gaming, film, TV, and more. The convention, held at the Cajundome Convention Center in...',\n",
       "  'Main Page': 'https://rove.me/to/louisiana/louisiana-comic-con',\n",
       "  'Start Date': 'Mar 7',\n",
       "  'Title': 'Louisiana Comic Con 2025',\n",
       "  'When': 'Fri, Mar 7, 6 PM – Sat, Mar 8, 6 PM CST',\n",
       "  'image': 'https://encrypted-tbn0.gstatic.com/images?q=tbn:ANd9GcQnjxevl3k5ER9a__1ZDeKN3is3kcGz5ie4CYsG1cP2caXeBfmVHgRtojGUxg&s=10',\n",
       "  'thumb': 'https://encrypted-tbn0.gstatic.com/images?q=tbn:ANd9GcScgVqtpYEL0nyScG_L5mWUINS7JFkAqpht9_9PpD9IK47DYNKfwdCcmmg&s'},\n",
       " {'Address1': 'The 44 Sports Grill & Nightlife, 4494 W Peoria Ave',\n",
       "  'Address2': 'Glendale, AZ',\n",
       "  'Desc': 'Find tickets for Mosh Pit Army showing at the The 44 Sports Grill and Nightlife - Glendale, US Sunday Mar 9, 5:30PM Tickets starting at $10.00',\n",
       "  'Main Page': 'https://www.ticketweb.com/event/mosh-pit-army-presents-feed-the-44-sports-grill-and-tickets/13739734',\n",
       "  'Start Date': 'Mar 9',\n",
       "  'Title': 'Hostile Fate',\n",
       "  'When': 'Sun, Mar 9, 6 – 10 PM MST',\n",
       "  'image': 'https://encrypted-tbn0.gstatic.com/images?q=tbn:ANd9GcRO_VnWdjX2LD7za46XP7_BcLzealhSHBChzmBsuE29yg&s=10',\n",
       "  'thumb': 'https://encrypted-tbn0.gstatic.com/images?q=tbn:ANd9GcTxi-xEefSk8aGZU0PZn0GBBHiAwbRNH4jUkxJ47Rc&s'}]"
      ]
     },
     "execution_count": 89,
     "metadata": {},
     "output_type": "execute_result"
    }
   ],
   "source": [
    "url  = \"http://127.0.0.1:5002/user_recc\"\n",
    "data = {'USER': sample_user}\n",
    "items = []\n",
    "for _ in range(10):\n",
    "    recc = requests.post(url, json = data)\n",
    "    idx = int( json.loads(recc.content.decode())[0] ) \n",
    "    items.append(idx)\n",
    "\n",
    "events = []\n",
    "url  = \"http://127.0.0.1:5001/search_idx\"\n",
    "\n",
    "for idx in items:\n",
    "    data = {\"IDX\": idx}\n",
    "    item = requests.post(url,json=data)\n",
    "    item = json.loads(item.content.decode())\n",
    "    events.append(item)\n",
    "events"
   ]
  }
 ],
 "metadata": {
  "kernelspec": {
   "display_name": ".venv",
   "language": "python",
   "name": "python3"
  },
  "language_info": {
   "codemirror_mode": {
    "name": "ipython",
    "version": 3
   },
   "file_extension": ".py",
   "mimetype": "text/x-python",
   "name": "python",
   "nbconvert_exporter": "python",
   "pygments_lexer": "ipython3",
   "version": "3.11.5"
  }
 },
 "nbformat": 4,
 "nbformat_minor": 2
}
