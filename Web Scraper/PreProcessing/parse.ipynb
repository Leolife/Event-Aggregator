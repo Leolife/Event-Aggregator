{
 "cells": [
  {
   "cell_type": "code",
   "execution_count": 2,
   "metadata": {},
   "outputs": [],
   "source": [
    "from datetime  import datetime\n",
    "\n",
    "import pandas  as pd\n",
    "import numpy   as np\n",
    "import seaborn as sns\n",
    "import polars  as pl\n",
    "\n",
    "import os"
   ]
  },
  {
   "cell_type": "code",
   "execution_count": 13,
   "metadata": {},
   "outputs": [],
   "source": [
    "os.chdir(path = default_path)"
   ]
  },
  {
   "cell_type": "code",
   "execution_count": 14,
   "metadata": {},
   "outputs": [],
   "source": [
    "# Get the default or root folder of the user's system in case that any other person needs to run this setup\n",
    "while not os.getcwd().endswith('Web Scraper'):\n",
    "    os.chdir('..')\n",
    "    if os.getcwd().endswith('Users'):\n",
    "        print(\"Unable to find the root directory\")\n",
    "        break\n",
    "users_default_path = os.getcwd()"
   ]
  },
  {
   "cell_type": "code",
   "execution_count": 17,
   "metadata": {},
   "outputs": [],
   "source": [
    "data_path      = os.path.join(users_default_path,'Data')\n",
    "collector_path = os.path.join(users_default_path,'Collector')\n"
   ]
  },
  {
   "cell_type": "code",
   "execution_count": 18,
   "metadata": {},
   "outputs": [],
   "source": [
    "steam_games = os.path.join(data_path,'steam_games.csv')\n",
    "video_games = os.path.join(data_path,'video_games.csv')\n",
    "nyc_events  = os.path.join(data_path,'nyc-permitted-event-information.csv.zip')"
   ]
  },
  {
   "cell_type": "code",
   "execution_count": null,
   "metadata": {},
   "outputs": [],
   "source": [
    "current_path = os.getcwd()\n",
    "print(current_path)\n",
    "print(os.path.abspath(path = current_path))\n",
    "os.chdir(\"..\")\n",
    "#if current_path.endswith('Web Scraper'):"
   ]
  },
  {
   "cell_type": "code",
   "execution_count": null,
   "metadata": {},
   "outputs": [],
   "source": [
    "full_path = \"/Users/avaldivia/Documents/GitHub/Event-Aggregator/Web Scraper/Data/games.csv\"\n",
    "df = pd.read_csv(filepath_or_buffer= full_path,index_col = 0)\n",
    "df.head(n = 3)"
   ]
  },
  {
   "cell_type": "code",
   "execution_count": 13,
   "metadata": {},
   "outputs": [],
   "source": [
    "def k_mapping(num: str) -> int:\n",
    "    multiplier = 1\n",
    "    l = num\n",
    "    r = 0\n",
    "    if 'K' in num:\n",
    "        l = num[:-1]\n",
    "        multiplier = 1_000\n",
    "    \n",
    "    if '.' in num:\n",
    "        l , r = l.split('.')\n",
    "\n",
    "    return int( (int(l) * multiplier) + (int(r) * (multiplier/10)) )\n",
    "\n",
    "assert(k_mapping('3.9K')   == 3900.0)\n",
    "assert(k_mapping('11.9K')  == 11_900.0)\n",
    "assert(k_mapping('41K')    == 41000.0)\n",
    "assert(k_mapping('400')    == 400.0)"
   ]
  },
  {
   "cell_type": "code",
   "execution_count": 14,
   "metadata": {},
   "outputs": [],
   "source": [
    "df['Times Listed']      = df['Times Listed'].apply(func = k_mapping)\n",
    "df['Number of Reviews'] = df['Number of Reviews'].apply(func = k_mapping)\n",
    "df['Plays']             = df['Plays'].apply(func = k_mapping)\n",
    "df['Playing']           = df['Playing'].apply(func = k_mapping)\n",
    "df['Backlogs']          = df['Backlogs'].apply(func = k_mapping)\n",
    "df['Wishlist']          = df['Wishlist'].apply(func = k_mapping)"
   ]
  },
  {
   "cell_type": "code",
   "execution_count": null,
   "metadata": {},
   "outputs": [],
   "source": [
    "date_map = lambda date: datetime.strptime(date,'%b %d, %Y').strftime(format = '%Y-%m-%d')\n",
    "# Test lambda function\n",
    "sample_date = 'Feb 25, 2022'\n",
    "date_map(sample_date)"
   ]
  },
  {
   "cell_type": "code",
   "execution_count": 16,
   "metadata": {},
   "outputs": [],
   "source": [
    "# Remove all the rows that contains 'releases on TBD' as it messes with the mapping.\n",
    "df = df[df['Release Date'] != 'releases on TBD']"
   ]
  },
  {
   "cell_type": "code",
   "execution_count": 17,
   "metadata": {},
   "outputs": [],
   "source": [
    "df['Release Date'] = pd.to_datetime(df['Release Date'].apply(func = date_map))"
   ]
  },
  {
   "cell_type": "code",
   "execution_count": 18,
   "metadata": {},
   "outputs": [],
   "source": [
    "#df['Genres'] = df['Genres'].apply(func = lambda l: eval(l))"
   ]
  },
  {
   "cell_type": "code",
   "execution_count": null,
   "metadata": {},
   "outputs": [],
   "source": [
    "df.head(n = 2)"
   ]
  },
  {
   "cell_type": "code",
   "execution_count": null,
   "metadata": {},
   "outputs": [],
   "source": [
    "s = {i for item in df['Genres'] for i in eval(item)}\n",
    "print(len(s))\n",
    "s"
   ]
  },
  {
   "cell_type": "code",
   "execution_count": 62,
   "metadata": {},
   "outputs": [],
   "source": [
    "df = df[df['Team'].apply(lambda x: isinstance(x,str))]\n",
    "df.shape"
   ]
  },
  {
   "cell_type": "code",
   "execution_count": null,
   "metadata": {},
   "outputs": [],
   "source": [
    "df['Team'].value_counts()"
   ]
  },
  {
   "cell_type": "code",
   "execution_count": null,
   "metadata": {},
   "outputs": [],
   "source": [
    "s = {i for item in df['Team'] for i in eval(item)}\n",
    "print(len(s))"
   ]
  },
  {
   "cell_type": "code",
   "execution_count": null,
   "metadata": {},
   "outputs": [],
   "source": [
    "df.head()"
   ]
  },
  {
   "cell_type": "code",
   "execution_count": null,
   "metadata": {},
   "outputs": [],
   "source": [
    "sns.histplot(data = df['Number of Reviews'])"
   ]
  },
  {
   "cell_type": "code",
   "execution_count": null,
   "metadata": {},
   "outputs": [],
   "source": [
    "df.info()"
   ]
  },
  {
   "cell_type": "code",
   "execution_count": null,
   "metadata": {},
   "outputs": [],
   "source": [
    "# Apply One Hot encoding for each of the categories\n",
    "for category in s:\n",
    "    df[category] = df['Genres'].apply( func = lambda x: 1 if category in x else 0)\n",
    "\n",
    "df.drop(labels=['Genres'],axis=1)"
   ]
  },
  {
   "cell_type": "code",
   "execution_count": null,
   "metadata": {},
   "outputs": [],
   "source": [
    "df.head(n = 2)"
   ]
  },
  {
   "cell_type": "code",
   "execution_count": null,
   "metadata": {},
   "outputs": [],
   "source": [
    "df.iloc[:,13:]"
   ]
  },
  {
   "cell_type": "code",
   "execution_count": 66,
   "metadata": {},
   "outputs": [],
   "source": [
    "inventory = pd.concat([df['Title'],df.iloc[:,13:] ], axis = 1)"
   ]
  },
  {
   "cell_type": "code",
   "execution_count": null,
   "metadata": {},
   "outputs": [],
   "source": [
    "inventory.head(n = 2)"
   ]
  },
  {
   "cell_type": "code",
   "execution_count": null,
   "metadata": {},
   "outputs": [],
   "source": [
    "inventory.info()"
   ]
  },
  {
   "cell_type": "code",
   "execution_count": 70,
   "metadata": {},
   "outputs": [],
   "source": [
    "#inventory.to_csv(\"/Users/avaldivia/Documents/GitHub/Event-Aggregator/Web Scraper/Data/video_games.csv\")"
   ]
  },
  {
   "cell_type": "code",
   "execution_count": null,
   "metadata": {},
   "outputs": [],
   "source": [
    "l = df['Reviews'][0]\n",
    "for item in eval(l):\n",
    "    print(item)\n",
    "    print()"
   ]
  }
 ],
 "metadata": {
  "kernelspec": {
   "display_name": ".venv",
   "language": "python",
   "name": "python3"
  },
  "language_info": {
   "codemirror_mode": {
    "name": "ipython",
    "version": 3
   },
   "file_extension": ".py",
   "mimetype": "text/x-python",
   "name": "python",
   "nbconvert_exporter": "python",
   "pygments_lexer": "ipython3",
   "version": "3.11.4"
  }
 },
 "nbformat": 4,
 "nbformat_minor": 2
}
