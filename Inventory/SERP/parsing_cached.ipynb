{
 "cells": [
  {
   "cell_type": "code",
   "execution_count": 4,
   "metadata": {},
   "outputs": [],
   "source": [
    "from io     import BytesIO\n",
    "from pprint import pprint\n",
    "from PIL    import Image\n",
    "\n",
    "import requests\n",
    "import json\n",
    "import gzip"
   ]
  },
  {
   "cell_type": "code",
   "execution_count": 5,
   "metadata": {},
   "outputs": [],
   "source": [
    "def write_comp_json(data: dict, FileName: str) -> None:\n",
    "    with gzip.open(FileName, 'w') as fout:\n",
    "        fout.write(json.dumps(data).encode('utf-8'))  "
   ]
  },
  {
   "cell_type": "code",
   "execution_count": 6,
   "metadata": {},
   "outputs": [],
   "source": [
    "def read_comp_json(FileName: str) -> None:\n",
    "    with gzip.open(FileName, 'r') as fin:\n",
    "        data = json.loads(fin.read().decode('utf-8'))\n",
    "    return data"
   ]
  },
  {
   "cell_type": "code",
   "execution_count": null,
   "metadata": {},
   "outputs": [
    {
     "name": "stdout",
     "output_type": "stream",
     "text": [
      "{'title': 'PGL Wallachia S3', 'date': {'start_date': 'Mar 8', 'when': 'Sat, Mar 8'}, 'address': ['PGL ESPORTS, Bulevardul Dimitrie Pompeiu 9-9A', 'Bucharest, Romania'], 'link': 'https://ggscore.com/en/dota-2/pgl-wallachia-season-3', 'event_location_map': {'image': 'https://www.google.com/maps/vt/data=y-dpEALzbHQhAQxiFMNK6CWDzFwxXoLb9q6xMoS5-V4DC_QB8PVq4hPfnYts0uEszPjk4qFBjlrlYM5_ui2a6D5nzFh4olnzO0q_IBjEtrLIRXVI2MA', 'link': 'https://www.google.com/maps/place//data=!4m2!3m1!1s0x40b1f88016a75743:0x2cedc8ae3509c5d4?sa=X&ved=2ahUKEwj-wb-1uOyLAxVcETQIHVZhJ3IQ9eIBegQIAhAA', 'serpapi_link': 'https://serpapi.com/search.json?data=%214m2%213m1%211s0x40b1f88016a75743%3A0x2cedc8ae3509c5d4&engine=google_maps&google_domain=google.com&hl=en&q=Dota+2&type=place'}, 'description': 'Full information about PGL Wallachia S3 Dota 2. Match results, VODs, streams, team rosters, schedules', 'ticket_info': [{'source': 'ggScore', 'link': 'https://ggscore.com/en/dota-2/pgl-wallachia-season-3', 'link_type': 'more info'}], 'venue': {'name': 'PGL ESPORTS', 'rating': 4.4, 'reviews': 44, 'link': 'https://www.google.com/search?sca_esv=b0f432fdb9a278a4&q=PGL+ESPORTS&ludocid=3237464357688952276&ibp=gwp%3B0,7'}, 'thumbnail': 'https://encrypted-tbn0.gstatic.com/images?q=tbn:ANd9GcQ-PK95Lpvm8Bzooz6K5VyeLpb58FtbvM8buCVAA6LvBRubnB8wEf8NwkA&s', 'image': 'https://encrypted-tbn0.gstatic.com/images?q=tbn:ANd9GcTGbArTsTUfuDh6TSJ-RXCMb23odAyP2FJFV2VEKkflEA&s=10'}\n"
     ]
    }
   ],
   "source": [
    "db = read_comp_json('db.json')\n",
    "db['COUNT']"
   ]
  },
  {
   "cell_type": "code",
   "execution_count": 8,
   "metadata": {},
   "outputs": [],
   "source": [
    "# db = {'COUNT': 0}\n",
    "# write_comp_json(db,'db.json')\n",
    "# read_comp_json('db.json')"
   ]
  },
  {
   "cell_type": "code",
   "execution_count": 9,
   "metadata": {},
   "outputs": [],
   "source": [
    "# sample = data['events_results'][2]\n",
    "# sample"
   ]
  },
  {
   "cell_type": "code",
   "execution_count": 10,
   "metadata": {},
   "outputs": [],
   "source": [
    "#response = requests.get(url)\n",
    "#img = Image.open(BytesIO(response.content))"
   ]
  }
 ],
 "metadata": {
  "kernelspec": {
   "display_name": ".venv",
   "language": "python",
   "name": "python3"
  },
  "language_info": {
   "codemirror_mode": {
    "name": "ipython",
    "version": 3
   },
   "file_extension": ".py",
   "mimetype": "text/x-python",
   "name": "python",
   "nbconvert_exporter": "python",
   "pygments_lexer": "ipython3",
   "version": "3.11.5"
  }
 },
 "nbformat": 4,
 "nbformat_minor": 2
}
