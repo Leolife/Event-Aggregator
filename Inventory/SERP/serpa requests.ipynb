{
 "cells": [
  {
   "cell_type": "code",
   "execution_count": null,
   "metadata": {},
   "outputs": [],
   "source": [
    "from serpapi import SerpApiClient\n",
    "from dotenv  import load_dotenv\n",
    "\n",
    "import requests\n",
    "import json\n",
    "import os\n",
    "\n",
    "while not os.getcwd().endswith('Event-Aggregator'):\n",
    "    os.chdir('..')\n",
    "    \n",
    "load_dotenv(os.path.join(os.getcwd(),'.env'))\n",
    "\n",
    "API_KEY = os.environ.get('SERP_API_KEY')"
   ]
  },
  {
   "cell_type": "code",
   "execution_count": null,
   "metadata": {},
   "outputs": [],
   "source": [
    "# query = {\"q\": \"Esports Events\", \"engine\": \"google_events\", 'api_key': API_KEY}\n",
    "# search = SerpApiClient(query)\n",
    "# data = search.get_json()\n",
    "# with open('api_cached_results.json','w') as f:\n",
    "#     json.dump(data, f)"
   ]
  }
 ],
 "metadata": {
  "kernelspec": {
   "display_name": ".venv",
   "language": "python",
   "name": "python3"
  },
  "language_info": {
   "codemirror_mode": {
    "name": "ipython",
    "version": 3
   },
   "file_extension": ".py",
   "mimetype": "text/x-python",
   "name": "python",
   "nbconvert_exporter": "python",
   "pygments_lexer": "ipython3",
   "version": "3.11.5"
  }
 },
 "nbformat": 4,
 "nbformat_minor": 2
}
