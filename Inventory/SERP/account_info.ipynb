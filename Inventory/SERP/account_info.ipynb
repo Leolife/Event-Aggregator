{
 "cells": [
  {
   "cell_type": "code",
   "execution_count": null,
   "metadata": {},
   "outputs": [],
   "source": [
    "from dotenv  import load_dotenv\n",
    "\n",
    "import requests\n",
    "import os"
   ]
  },
  {
   "cell_type": "code",
   "execution_count": null,
   "metadata": {},
   "outputs": [],
   "source": [
    "while not os.getcwd().endswith('Event-Aggregator'):\n",
    "    os.chdir('..')\n",
    "\n",
    "default_path = os.getcwd()\n",
    "load_dotenv(os.path.join(default_path,'.env'))\n",
    "\n",
    "API_KEY = os.environ.get('SERP_API_KEY')\n",
    "\n",
    "requests.get(url = f'https://serpapi.com/account?api_key={API_KEY}').json()"
   ]
  }
 ],
 "metadata": {
  "kernelspec": {
   "display_name": ".venv",
   "language": "python",
   "name": "python3"
  },
  "language_info": {
   "codemirror_mode": {
    "name": "ipython",
    "version": 3
   },
   "file_extension": ".py",
   "mimetype": "text/x-python",
   "name": "python",
   "nbconvert_exporter": "python",
   "pygments_lexer": "ipython3",
   "version": "3.11.5"
  }
 },
 "nbformat": 4,
 "nbformat_minor": 2
}
