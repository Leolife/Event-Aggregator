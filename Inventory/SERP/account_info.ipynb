{
 "cells": [
  {
   "cell_type": "code",
   "execution_count": 2,
   "metadata": {},
   "outputs": [],
   "source": [
    "from dotenv  import load_dotenv\n",
    "\n",
    "import requests\n",
    "import os"
   ]
  },
  {
   "cell_type": "code",
   "execution_count": 3,
   "metadata": {},
   "outputs": [
    {
     "data": {
      "text/plain": [
       "{'account_id': '67bbb357f934f46969d15b0a',\n",
       " 'api_key': '34e459b4c3e15eb1bc0020edda71483d70423e7bd8e294dbbaf9075641004bf9',\n",
       " 'account_email': 'eventaggregatorandforum@gmail.com',\n",
       " 'account_status': 'Active',\n",
       " 'plan_id': 'free',\n",
       " 'plan_name': 'Free Plan',\n",
       " 'plan_monthly_price': 0.0,\n",
       " 'searches_per_month': 100,\n",
       " 'plan_searches_left': 97,\n",
       " 'extra_credits': 0,\n",
       " 'total_searches_left': 97,\n",
       " 'this_month_usage': 3,\n",
       " 'this_hour_searches': 0,\n",
       " 'last_hour_searches': 0,\n",
       " 'account_rate_limit_per_hour': 100}"
      ]
     },
     "execution_count": 3,
     "metadata": {},
     "output_type": "execute_result"
    }
   ],
   "source": [
    "while not os.getcwd().endswith('Event-Aggregator'):\n",
    "    os.chdir('..')\n",
    "\n",
    "default_path = os.getcwd()\n",
    "load_dotenv(os.path.join(default_path,'.env'))\n",
    "\n",
    "API_KEY = os.environ.get('SERP_API_KEY')\n",
    "\n",
    "requests.get(url = f'https://serpapi.com/account?api_key={API_KEY}').json()"
   ]
  }
 ],
 "metadata": {
  "kernelspec": {
   "display_name": ".venv",
   "language": "python",
   "name": "python3"
  },
  "language_info": {
   "codemirror_mode": {
    "name": "ipython",
    "version": 3
   },
   "file_extension": ".py",
   "mimetype": "text/x-python",
   "name": "python",
   "nbconvert_exporter": "python",
   "pygments_lexer": "ipython3",
   "version": "3.11.5"
  }
 },
 "nbformat": 4,
 "nbformat_minor": 2
}
