{
 "cells": [
  {
   "cell_type": "code",
   "execution_count": 4,
   "metadata": {},
   "outputs": [],
   "source": [
    "from   bs4 import BeautifulSoup\n",
    "import requests"
   ]
  },
  {
   "cell_type": "code",
   "execution_count": null,
   "metadata": {},
   "outputs": [],
   "source": [
    "content = requests.get(url = 'https://fancons.com/events/')\n",
    "soup  = BeautifulSoup(content.content,'html.parser')\n",
    "webpage_text = soup.get_text()\n",
    "\n",
    "items = [i.strip() for i in webpage_text.split('\\n') if i != '']\n",
    "\n",
    "start_idx = items.index('Location')\n",
    "end_idx   = items[start_idx + 1:].index('Location')\n",
    "events    = items[start_idx + 1 : end_idx]"
   ]
  },
  {
   "cell_type": "code",
   "execution_count": 19,
   "metadata": {},
   "outputs": [],
   "source": [
    "data = [{'TITLE': name,'DATE': date,'LOCATION': loc} for name, date, loc in list(zip(*[iter(events)]*3))]"
   ]
  },
  {
   "cell_type": "code",
   "execution_count": 34,
   "metadata": {},
   "outputs": [
    {
     "data": {
      "text/plain": [
       "<Response [200]>"
      ]
     },
     "execution_count": 34,
     "metadata": {},
     "output_type": "execute_result"
    }
   ],
   "source": [
    "requests.post(url = 'http://127.0.0.1:5000/events/save',json = data)"
   ]
  }
 ],
 "metadata": {
  "kernelspec": {
   "display_name": ".venv",
   "language": "python",
   "name": "python3"
  },
  "language_info": {
   "codemirror_mode": {
    "name": "ipython",
    "version": 3
   },
   "file_extension": ".py",
   "mimetype": "text/x-python",
   "name": "python",
   "nbconvert_exporter": "python",
   "pygments_lexer": "ipython3",
   "version": "3.11.5"
  }
 },
 "nbformat": 4,
 "nbformat_minor": 2
}
