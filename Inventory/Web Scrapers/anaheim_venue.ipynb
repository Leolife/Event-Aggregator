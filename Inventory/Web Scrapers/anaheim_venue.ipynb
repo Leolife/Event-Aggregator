{
 "cells": [
  {
   "cell_type": "code",
   "execution_count": 1,
   "metadata": {},
   "outputs": [],
   "source": [
    "from bs4 import BeautifulSoup\n",
    "import requests"
   ]
  },
  {
   "cell_type": "code",
   "execution_count": 19,
   "metadata": {},
   "outputs": [],
   "source": [
    "items = requests.get(url = 'https://www.anaheim.net/calendar.aspx?Keywords=&startDate=01/01/2025&enddate=12/31/2025&CID=26&showPastEvents=false')\n",
    "soup  = BeautifulSoup(items.content,'html.parser')\n",
    "webpage_text = soup.get_text()"
   ]
  },
  {
   "cell_type": "code",
   "execution_count": 20,
   "metadata": {},
   "outputs": [],
   "source": [
    "text = webpage_text.split('\\n')\n",
    "text = [i.strip() for i in text]\n",
    "text = [i for i in text if i != '']"
   ]
  },
  {
   "cell_type": "code",
   "execution_count": 23,
   "metadata": {},
   "outputs": [],
   "source": [
    "def find_s(s: list[str], val: str):\n",
    "    for e in s:\n",
    "        if e.startswith(val):\n",
    "            return s.index(e)\n",
    "\n",
    "start_idx = find_s(s = text, val = '01')\n",
    "text = text[start_idx :]\n",
    "end_idx  = find_s(s = text, val = 'Facility')\n",
    "text = text[:end_idx]"
   ]
  },
  {
   "cell_type": "code",
   "execution_count": 24,
   "metadata": {},
   "outputs": [
    {
     "data": {
      "text/plain": [
       "['01',\n",
       " '02',\n",
       " '03',\n",
       " '04\\t\\t\\t  IME WestCategory: Anaheim Convention Center   IME West  When: All Day Location: Anaheim Convention Center  More Details   February\\xa04,\\xa02025\\u2009-\\u2009February\\xa06,\\xa02025@ Anaheim Convention Center',\n",
       " 'IME West2025-02-04T00:00:00Please visit event website for additional information.',\n",
       " 'Anaheim Convention Center800 W Katella AveAnaheimCA92802',\n",
       " '05\\t\\t\\t  IME WestCategory: Anaheim Convention Center   IME West  When: All Day Location: Anaheim Convention Center  More Details   February\\xa04,\\xa02025\\u2009-\\u2009February\\xa06,\\xa02025@ Anaheim Convention Center',\n",
       " 'IME West2025-02-04T00:00:00Please visit event website for additional information.',\n",
       " 'Anaheim Convention Center800 W Katella AveAnaheimCA92802',\n",
       " '06\\t\\t\\t  IME WestCategory: Anaheim Convention Center   IME West  When: All Day Location: Anaheim Convention Center  More Details   February\\xa04,\\xa02025\\u2009-\\u2009February\\xa06,\\xa02025@ Anaheim Convention Center',\n",
       " 'IME West2025-02-04T00:00:00Please visit event website for additional information.',\n",
       " 'Anaheim Convention Center800 W Katella AveAnaheimCA92802',\n",
       " '07',\n",
       " '08\\t\\t\\t  Jiu Jitsu World League California XCategory: Anaheim Convention Center   Jiu Jitsu World League California X  When: All Day Location: Anaheim Convention Center  More Details   February\\xa08,\\xa02025\\u2009-\\u2009February\\xa09,\\xa02025@ Anaheim Convention Center',\n",
       " 'Jiu Jitsu World League California X2025-02-08T00:00:00Please visit event website for additional information.',\n",
       " 'Anaheim Convention Center800 W Katella AveAnaheimCA92802',\n",
       " '09\\t\\t\\t  Jiu Jitsu World League California XCategory: Anaheim Convention Center   Jiu Jitsu World League California X  When: All Day Location: Anaheim Convention Center  More Details   February\\xa08,\\xa02025\\u2009-\\u2009February\\xa09,\\xa02025@ Anaheim Convention Center',\n",
       " 'Jiu Jitsu World League California X2025-02-08T00:00:00Please visit event website for additional information.',\n",
       " 'Anaheim Convention Center800 W Katella AveAnaheimCA92802',\n",
       " '10',\n",
       " '11',\n",
       " '12',\n",
       " '13',\n",
       " '14\\t\\t\\t  2025 Spirit NationalsCategory: Anaheim Convention Center   2025 Spirit Nationals  When: All Day Location: Anaheim Convention Center  More Details   February\\xa014,\\xa02025\\u2009-\\u2009February\\xa017,\\xa02025@ Anaheim Convention Center',\n",
       " '2025 Spirit Nationals2025-02-14T00:00:00Please visit event website for additional information.',\n",
       " 'Anaheim Convention Center800 W Katella AveAnaheimCA92802',\n",
       " '15\\t\\t\\t  2025 Spirit NationalsCategory: Anaheim Convention Center   2025 Spirit Nationals  When: All Day Location: Anaheim Convention Center  More Details   February\\xa014,\\xa02025\\u2009-\\u2009February\\xa017,\\xa02025@ Anaheim Convention Center',\n",
       " '2025 Spirit Nationals2025-02-14T00:00:00Please visit event website for additional information.',\n",
       " 'Anaheim Convention Center800 W Katella AveAnaheimCA92802',\n",
       " '16\\t\\t\\t  2025 Spirit NationalsCategory: Anaheim Convention Center   2025 Spirit Nationals  When: All Day Location: Anaheim Convention Center  More Details   February\\xa014,\\xa02025\\u2009-\\u2009February\\xa017,\\xa02025@ Anaheim Convention Center',\n",
       " '2025 Spirit Nationals2025-02-14T00:00:00Please visit event website for additional information.',\n",
       " 'Anaheim Convention Center800 W Katella AveAnaheimCA92802    2025 National College FairCategory: Anaheim Convention Center   2025 National College Fair  When: All Day Location: Anaheim Convention Center  More Details   February\\xa016,\\xa02025,\\xa0All Day@ Anaheim Convention Center',\n",
       " '2025 National College Fair2025-02-16T00:00:00Please visit event website for additional information.',\n",
       " 'Anaheim Convention Center800 W Katella AveAnaheimCA92802',\n",
       " '17\\t\\t\\t  2025 Spirit NationalsCategory: Anaheim Convention Center   2025 Spirit Nationals  When: All Day Location: Anaheim Convention Center  More Details   February\\xa014,\\xa02025\\u2009-\\u2009February\\xa017,\\xa02025@ Anaheim Convention Center',\n",
       " '2025 Spirit Nationals2025-02-14T00:00:00Please visit event website for additional information.',\n",
       " 'Anaheim Convention Center800 W Katella AveAnaheimCA92802',\n",
       " '18',\n",
       " '19',\n",
       " '20\\t\\t\\t  Religious Education Congress 2025Category: Anaheim Convention Center   Religious Education Congress 2025  When: All Day Location: Anaheim Convention Center  More Details   February\\xa020,\\xa02025\\u2009-\\u2009February\\xa023,\\xa02025@ Anaheim Convention Center',\n",
       " 'Religious Education Congress 20252025-02-20T00:00:00Please visit event website for additional information.',\n",
       " 'Anaheim Convention Center800 W Katella AveAnaheimCA92802',\n",
       " '21\\t\\t\\t  Religious Education Congress 2025Category: Anaheim Convention Center   Religious Education Congress 2025  When: All Day Location: Anaheim Convention Center  More Details   February\\xa020,\\xa02025\\u2009-\\u2009February\\xa023,\\xa02025@ Anaheim Convention Center',\n",
       " 'Religious Education Congress 20252025-02-20T00:00:00Please visit event website for additional information.',\n",
       " 'Anaheim Convention Center800 W Katella AveAnaheimCA92802',\n",
       " '22\\t\\t\\t  Religious Education Congress 2025Category: Anaheim Convention Center   Religious Education Congress 2025  When: All Day Location: Anaheim Convention Center  More Details   February\\xa020,\\xa02025\\u2009-\\u2009February\\xa023,\\xa02025@ Anaheim Convention Center',\n",
       " 'Religious Education Congress 20252025-02-20T00:00:00Please visit event website for additional information.',\n",
       " 'Anaheim Convention Center800 W Katella AveAnaheimCA92802',\n",
       " '23\\t\\t\\t  Religious Education Congress 2025Category: Anaheim Convention Center   Religious Education Congress 2025  When: All Day Location: Anaheim Convention Center  More Details   February\\xa020,\\xa02025\\u2009-\\u2009February\\xa023,\\xa02025@ Anaheim Convention Center',\n",
       " 'Religious Education Congress 20252025-02-20T00:00:00Please visit event website for additional information.',\n",
       " 'Anaheim Convention Center800 W Katella AveAnaheimCA92802    Premiere Beauty 2025Category: Anaheim Convention Center   Premiere Beauty 2025  When: All Day Location: Anaheim Convention Center  More Details   February\\xa023,\\xa02025\\u2009-\\u2009February\\xa024,\\xa02025@ Anaheim Convention Center',\n",
       " 'Premiere Beauty 20252025-02-23T00:00:00Please visit event website for additional information.',\n",
       " 'Anaheim Convention Center800 W Katella AveAnaheimCA92802',\n",
       " '24\\t\\t\\t  Premiere Beauty 2025Category: Anaheim Convention Center   Premiere Beauty 2025  When: All Day Location: Anaheim Convention Center  More Details   February\\xa023,\\xa02025\\u2009-\\u2009February\\xa024,\\xa02025@ Anaheim Convention Center',\n",
       " 'Premiere Beauty 20252025-02-23T00:00:00Please visit event website for additional information.',\n",
       " 'Anaheim Convention Center800 W Katella AveAnaheimCA92802',\n",
       " '25',\n",
       " '26',\n",
       " '27',\n",
       " '28',\n",
       " '01']"
      ]
     },
     "execution_count": 24,
     "metadata": {},
     "output_type": "execute_result"
    }
   ],
   "source": [
    "text"
   ]
  }
 ],
 "metadata": {
  "kernelspec": {
   "display_name": ".venv",
   "language": "python",
   "name": "python3"
  },
  "language_info": {
   "codemirror_mode": {
    "name": "ipython",
    "version": 3
   },
   "file_extension": ".py",
   "mimetype": "text/x-python",
   "name": "python",
   "nbconvert_exporter": "python",
   "pygments_lexer": "ipython3",
   "version": "3.11.5"
  }
 },
 "nbformat": 4,
 "nbformat_minor": 2
}
