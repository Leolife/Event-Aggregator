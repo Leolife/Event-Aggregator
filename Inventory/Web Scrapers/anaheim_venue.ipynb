{
 "cells": [
  {
   "cell_type": "code",
   "execution_count": 1,
   "metadata": {},
   "outputs": [],
   "source": [
    "from bs4 import BeautifulSoup\n",
    "import requests"
   ]
  },
  {
   "cell_type": "code",
   "execution_count": 7,
   "metadata": {},
   "outputs": [],
   "source": [
    "items = requests.get(url = 'https://www.anaheim.net/1871/Calendar-of-Events')\n",
    "soup  = BeautifulSoup(items.content,'html.parser')\n",
    "webpage_text = soup.get_text()"
   ]
  },
  {
   "cell_type": "code",
   "execution_count": null,
   "metadata": {},
   "outputs": [],
   "source": [
    "text = webpage_text.split('\\n')\n",
    "text = [i.strip() for i in text]\n",
    "text = [i for i in text if i != '']"
   ]
  },
  {
   "cell_type": "code",
   "execution_count": 13,
   "metadata": {},
   "outputs": [
    {
     "data": {
      "text/plain": [
       "['Convention Center - Calendar of Events | Anaheim, CA - Official Website',\n",
       " 'Skip to Main Content',\n",
       " 'Search',\n",
       " 'Pay & Apply      Find & Report      Community Info      Departments',\n",
       " 'HomeDepartmentsConvention, Sports & EntertainmentAnaheim Convention CenterCalendar of Events',\n",
       " 'Convention Center - Calendar of Events',\n",
       " 'Calendar',\n",
       " 'February 2025',\n",
       " 'Sun',\n",
       " 'Mon',\n",
       " 'Tue',\n",
       " 'Wed',\n",
       " 'Thu',\n",
       " 'Fri',\n",
       " 'Sat',\n",
       " '26',\n",
       " '27',\n",
       " '28',\n",
       " '29',\n",
       " '30',\n",
       " '31',\n",
       " '1',\n",
       " '2',\n",
       " '3',\n",
       " '4',\n",
       " '5',\n",
       " '6',\n",
       " '7',\n",
       " '8',\n",
       " '9',\n",
       " '10',\n",
       " '11',\n",
       " '12',\n",
       " '13',\n",
       " '14',\n",
       " '15',\n",
       " '16',\n",
       " '17',\n",
       " '18',\n",
       " '19',\n",
       " '20',\n",
       " '21',\n",
       " '22',\n",
       " '23',\n",
       " '24',\n",
       " '25',\n",
       " '26',\n",
       " '27',\n",
       " '28',\n",
       " '1',\n",
       " 'Thu, Feb. 20',\n",
       " 'Religious Education Congress 2025',\n",
       " 'Please visit event website for additional information.',\n",
       " 'Religious Education Congress 2025Read On',\n",
       " 'Sun, Feb. 23',\n",
       " 'Premiere Beauty 2025',\n",
       " 'Please visit event website for additional information.',\n",
       " 'Premiere Beauty 2025Read On',\n",
       " 'View All Events',\n",
       " '/Calendar.aspx',\n",
       " 'About Us',\n",
       " 'Floor Plans & Specifications',\n",
       " 'Rates, Policies, and Guidelines',\n",
       " 'Calendar of Events',\n",
       " 'Services',\n",
       " 'Reserving Space',\n",
       " 'Contact Us',\n",
       " 'Sustainability',\n",
       " 'Filming',\n",
       " 'Frequently Asked Questions',\n",
       " 'Contact Us',\n",
       " 'City of Anaheim200 S. Anaheim Blvd.Anaheim, CA 92805(714) 765-4311Dial 311',\n",
       " 'Helpful Links',\n",
       " 'City Council Agenda',\n",
       " 'City Council Video',\n",
       " 'FY 2024/25 Adopted Budget',\n",
       " 'News and Media Center',\n",
       " 'Anaheim Newsletter',\n",
       " 'Visit Anaheim',\n",
       " '/QuickLinks.aspx',\n",
       " 'Quick Links',\n",
       " 'Contact Us',\n",
       " 'Home',\n",
       " 'Site Map',\n",
       " 'Accessibility',\n",
       " 'Disability & Civil Rights Program',\n",
       " 'Copyright Notices',\n",
       " '/QuickLinks.aspx',\n",
       " 'Government Websites by CivicPlus®',\n",
       " 'Loading',\n",
       " 'Loading',\n",
       " 'Do Not Show Again',\n",
       " 'Close',\n",
       " 'Arrow Left',\n",
       " 'Arrow Right',\n",
       " '[]',\n",
       " 'Slideshow Left Arrow',\n",
       " 'Slideshow Right Arrow']"
      ]
     },
     "execution_count": 13,
     "metadata": {},
     "output_type": "execute_result"
    }
   ],
   "source": [
    "text"
   ]
  }
 ],
 "metadata": {
  "kernelspec": {
   "display_name": ".venv",
   "language": "python",
   "name": "python3"
  },
  "language_info": {
   "codemirror_mode": {
    "name": "ipython",
    "version": 3
   },
   "file_extension": ".py",
   "mimetype": "text/x-python",
   "name": "python",
   "nbconvert_exporter": "python",
   "pygments_lexer": "ipython3",
   "version": "3.11.5"
  }
 },
 "nbformat": 4,
 "nbformat_minor": 2
}
